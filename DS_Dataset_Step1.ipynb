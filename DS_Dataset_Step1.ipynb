{
 "cells": [
  {
   "cell_type": "markdown",
   "metadata": {},
   "source": [
    "# Data Science"
   ]
  },
  {
   "cell_type": "markdown",
   "metadata": {},
   "source": [
    "# Create and analyze your own dataset"
   ]
  },
  {
   "cell_type": "markdown",
   "metadata": {},
   "source": [
    "## Introduction"
   ]
  },
  {
   "cell_type": "markdown",
   "metadata": {},
   "source": [
    "The objective of this project is to create your own dataset and analyse the data. "
   ]
  },
  {
   "cell_type": "markdown",
   "metadata": {},
   "source": [
    "## Requirements\n",
    "\n",
    "Software and online services\n",
    "- Python IDE\n",
    "\n",
    "Hardware components and supplies\n",
    "- Raspberry PI 3 Model B\n",
    "- Digital Temperature Sensor DHT11\n",
    "- Breadboard\n",
    "- Jumper Wires"
   ]
  },
  {
   "cell_type": "markdown",
   "metadata": {},
   "source": [
    "## Step 1"
   ]
  },
  {
   "cell_type": "markdown",
   "metadata": {},
   "source": [
    "## Dataset creation"
   ]
  },
  {
   "cell_type": "markdown",
   "metadata": {},
   "source": [
    "In order to create the dataset it is necessary hardware and software developments. "
   ]
  },
  {
   "cell_type": "markdown",
   "metadata": {},
   "source": [
    "## Hardware development"
   ]
  },
  {
   "cell_type": "markdown",
   "metadata": {},
   "source": [
    "- DHT11 Pin SIGNAL - Raspberry Pin 16 GPIO23\n",
    "- DHT11 Pin VCC - Raspberry Pin 01 +3.3V\n",
    "- DHT11 Pin GND - Raspberry Pin 14 GND"
   ]
  },
  {
   "cell_type": "markdown",
   "metadata": {},
   "source": [
    "## Software development"
   ]
  },
  {
   "cell_type": "markdown",
   "metadata": {},
   "source": [
    "## Python"
   ]
  },
  {
   "cell_type": "markdown",
   "metadata": {},
   "source": [
    "Import libraries."
   ]
  },
  {
   "cell_type": "code",
   "execution_count": null,
   "metadata": {},
   "outputs": [],
   "source": [
    "import Adafruit_DHT\n",
    "import datetime\n",
    "import time"
   ]
  },
  {
   "cell_type": "markdown",
   "metadata": {},
   "source": [
    "Sensor model."
   ]
  },
  {
   "cell_type": "code",
   "execution_count": null,
   "metadata": {},
   "outputs": [],
   "source": [
    "sensor = Adafruit_DHT.DHT11"
   ]
  },
  {
   "cell_type": "markdown",
   "metadata": {},
   "source": [
    "Raspberry pin."
   ]
  },
  {
   "cell_type": "code",
   "execution_count": null,
   "metadata": {},
   "outputs": [],
   "source": [
    "pin = 23"
   ]
  },
  {
   "cell_type": "markdown",
   "metadata": {},
   "source": [
    "Log path."
   ]
  },
  {
   "cell_type": "code",
   "execution_count": null,
   "metadata": {},
   "outputs": [],
   "source": [
    "path = \"/home/pi/Desktop/\""
   ]
  },
  {
   "cell_type": "markdown",
   "metadata": {},
   "source": [
    "Define a function to receive a record from a temperature sensor and save it in a file with certain format.\n",
    "- date + time + temperature + humidity\n",
    "- e.g. 2019-03-14 00:00:00 T=22.0 H=20.0"
   ]
  },
  {
   "cell_type": "code",
   "execution_count": null,
   "metadata": {},
   "outputs": [],
   "source": [
    "def log_update(record):\n",
    "    log = open(path + \"log_temp.log\",\"a\")\n",
    "    line = datetime.datetime.now().strftime(\"%Y-%m-%d %H:%M:%S \") + record + \"\\n\" \n",
    "    log.write(line)\n",
    "    log.close()"
   ]
  },
  {
   "cell_type": "markdown",
   "metadata": {},
   "source": [
    "Read and review the record from a temperature sensor every five minutes. While the record is right, save it, otherwise save an error message.  "
   ]
  },
  {
   "cell_type": "code",
   "execution_count": null,
   "metadata": {},
   "outputs": [],
   "source": [
    "try:\n",
    "        while True:\n",
    "            humidity, temperature = Adafruit_DHT.read_retry(sensor,pin)\n",
    "\n",
    "            if humidity is not None and temperature is not None:\n",
    "                    log_update(\"T=%s\" % str(temperature) + \" \" +\"H=%s\" % str(humidity))\n",
    "\n",
    "            else:\n",
    "                    log_update(\"error\")\n",
    "\n",
    "            time.sleep(300)\n",
    "            \n",
    "except:\n",
    "        log_update(\"error\")"
   ]
  },
  {
   "cell_type": "markdown",
   "metadata": {},
   "source": [
    "## Results"
   ]
  },
  {
   "cell_type": "markdown",
   "metadata": {},
   "source": [
    "In the file path there is a log file with the temperature and humidity records from the temperature sensor.\n",
    "\n",
    "Sample of the log file log_temp.log\n",
    "\n",
    "2019-03-15 13:02:08 T=24.0 H=19.0  \n",
    "2019-03-15 13:07:09 T=24.0 H=19.0  \n",
    "2019-03-15 13:12:47 error  \n",
    "2019-03-15 13:18:25 error  \n",
    "2019-03-15 13:23:28 T=23.0 H=25.0  \n",
    "\n",
    "It is important to notice that the signal of the sensor was disconnected during certain periods of time in order to get errors and develop a better analysis.\n"
   ]
  },
  {
   "cell_type": "markdown",
   "metadata": {},
   "source": [
    "Reference: https://github.com/adafruit/Adafruit_Python_DHT"
   ]
  }
 ],
 "metadata": {
  "kernelspec": {
   "display_name": "Python 3",
   "language": "python",
   "name": "python3"
  },
  "language_info": {
   "codemirror_mode": {
    "name": "ipython",
    "version": 3
   },
   "file_extension": ".py",
   "mimetype": "text/x-python",
   "name": "python",
   "nbconvert_exporter": "python",
   "pygments_lexer": "ipython3",
   "version": "3.6.8"
  }
 },
 "nbformat": 4,
 "nbformat_minor": 2
}
