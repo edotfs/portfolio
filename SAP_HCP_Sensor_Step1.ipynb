{
 "cells": [
  {
   "cell_type": "markdown",
   "metadata": {},
   "source": [
    "# Sensor Data to SAP Cloud Platform"
   ]
  },
  {
   "cell_type": "markdown",
   "metadata": {},
   "source": [
    "Objective: Send temperature readings from Raspberry Pi 3 to SAP Cloud Platform IoT Service for Neo using HTTP Protocol"
   ]
  },
  {
   "cell_type": "markdown",
   "metadata": {},
   "source": [
    "### Requirements\n",
    "\n",
    "Software and online services\n",
    "- SAP Cloud Platform IoT Service for Neo\n",
    "- Python IDE\n",
    "\n",
    "Hardware components and supplies\n",
    "- Raspberry PI 3\n",
    "- Digital Temperature Sensor (DS18B20 or DHT11)\n",
    "- Resistor 4.7k ohm\n",
    "- Breadboard\n",
    "- Jumper Wires"
   ]
  },
  {
   "cell_type": "markdown",
   "metadata": {},
   "source": [
    "The project has software and hardware developments:\n",
    "\n",
    "### Steps\n",
    "\n",
    "1. Software. SAP Cloud Platform\n",
    "2. Software. Python code - HTTP Request\n",
    "3. Hardware. Raspberry PI 3 - Temperature Sensor"
   ]
  },
  {
   "cell_type": "markdown",
   "metadata": {},
   "source": [
    "## Step 1"
   ]
  },
  {
   "cell_type": "markdown",
   "metadata": {},
   "source": [
    "## SAP Cloud Platform "
   ]
  },
  {
   "cell_type": "markdown",
   "metadata": {},
   "source": [
    "- Go to __[SAP Cloud Platform Cockpit]\n",
    "(https://account.hanatrial.ondemand.com/#/home/welcome)__\n",
    "- Logon\n",
    "- Services > Internet of Things"
   ]
  },
  {
   "cell_type": "markdown",
   "metadata": {},
   "source": [
    "![title](Images/SAP_HCP_StepOne.png)"
   ]
  },
  {
   "cell_type": "markdown",
   "metadata": {},
   "source": [
    "- Take Action > Configure Service"
   ]
  },
  {
   "cell_type": "markdown",
   "metadata": {},
   "source": [
    "![title](Images/SAP_HCP_StepTwo.png)"
   ]
  },
  {
   "cell_type": "markdown",
   "metadata": {},
   "source": [
    "- Device Management > All Message Types\n",
    "\n",
    "![title](Images/SAP_HCP_StepThree.png)"
   ]
  },
  {
   "cell_type": "markdown",
   "metadata": {},
   "source": [
    "- Create a Message Type. \n",
    "  Click All Message Types icon\n",
    "  Click the + symbol at the bottom of the page\n",
    "  \n",
    "  Give it a name and fields based on your requirements. e.g, Name: MT_TemperatureSensor, Fields: temperature (double)     and humidity (double).\n",
    "  \n",
    "  Finally click Create\n",
    "  \n",
    " Note. Once it was created, save the ID you'll need it"
   ]
  },
  {
   "cell_type": "markdown",
   "metadata": {},
   "source": [
    "![title](Images/SAP_HCP_MT.png)"
   ]
  },
  {
   "cell_type": "markdown",
   "metadata": {},
   "source": [
    "- Create a Device Type. \n",
    "  Click All Device Types icon\n",
    "  Click the + symbol at the bottom of the page\n",
    "  \n",
    "  Give it a name and associate it with the Message Type previously created. e.g, Name: DEVT_Raspberry, Message Type: MT_TemperatureSensor and Direction: From Device.\n",
    "  \n",
    "  Finally click Create"
   ]
  },
  {
   "cell_type": "markdown",
   "metadata": {},
   "source": [
    "![title](Images/SAP_HCP_DEVT.png)"
   ]
  },
  {
   "cell_type": "markdown",
   "metadata": {},
   "source": [
    "- Create a Device. \n",
    "  Click All Registered Devices icon\n",
    "  Click the + symbol at the bottom of the page\n",
    "  \n",
    "  Give it a name and associate it with the Device Type previously created. e.g, Name: DEV_Raspberry, Device Type: DEVT_Raspberry.\n",
    "  \n",
    "  Finally click Create\n",
    "  \n",
    "  Note: Once it was created, save the OAuth Access Token and ID you'll need them."
   ]
  },
  {
   "cell_type": "markdown",
   "metadata": {},
   "source": [
    "![title](Images/SAP_HCP_DEV.png)"
   ]
  },
  {
   "cell_type": "markdown",
   "metadata": {},
   "source": [
    "### Summary"
   ]
  },
  {
   "cell_type": "markdown",
   "metadata": {},
   "source": [
    "At this point, SAP Cloud Platform has an Internet of Things Service ready to receive information via HTTP. Next step send a HTTP request to the SAP Cloud Platform."
   ]
  },
  {
   "cell_type": "code",
   "execution_count": null,
   "metadata": {},
   "outputs": [],
   "source": []
  }
 ],
 "metadata": {
  "kernelspec": {
   "display_name": "Python 3",
   "language": "python",
   "name": "python3"
  },
  "language_info": {
   "codemirror_mode": {
    "name": "ipython",
    "version": 3
   },
   "file_extension": ".py",
   "mimetype": "text/x-python",
   "name": "python",
   "nbconvert_exporter": "python",
   "pygments_lexer": "ipython3",
   "version": "3.6.8"
  }
 },
 "nbformat": 4,
 "nbformat_minor": 2
}
