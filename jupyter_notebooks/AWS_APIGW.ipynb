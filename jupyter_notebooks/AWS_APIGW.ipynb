{
 "cells": [
  {
   "cell_type": "markdown",
   "id": "46eefaf0",
   "metadata": {},
   "source": [
    "# AWS"
   ]
  },
  {
   "cell_type": "markdown",
   "id": "7fadb269",
   "metadata": {},
   "source": [
    "# AWS API Gateway"
   ]
  },
  {
   "cell_type": "markdown",
   "id": "2f67e36c",
   "metadata": {},
   "source": [
    "## Objective"
   ]
  },
  {
   "cell_type": "markdown",
   "id": "ebbbb9d3",
   "metadata": {},
   "source": [
    "Develop and publish an API REST using AWS API Gateway."
   ]
  },
  {
   "cell_type": "markdown",
   "id": "8c5223c4",
   "metadata": {},
   "source": [
    "## Contents"
   ]
  },
  {
   "cell_type": "markdown",
   "id": "0e07b372",
   "metadata": {},
   "source": [
    "* Mock\n",
    "* Lambda Function\n",
    "* Stages\n",
    "* Canary Deployments"
   ]
  },
  {
   "cell_type": "markdown",
   "id": "27399df6",
   "metadata": {},
   "source": [
    "# API"
   ]
  },
  {
   "cell_type": "markdown",
   "id": "006fc093",
   "metadata": {},
   "source": [
    "![title](../images/aws_lambda_10.png)"
   ]
  },
  {
   "cell_type": "markdown",
   "id": "9dc841bd",
   "metadata": {},
   "source": [
    "# 📕 Mock"
   ]
  },
  {
   "cell_type": "markdown",
   "id": "afac596f",
   "metadata": {},
   "source": [
    "![title](../images/aws_apigw_01.png)"
   ]
  },
  {
   "cell_type": "markdown",
   "id": "f7ae8744",
   "metadata": {},
   "source": [
    "![title](../images/aws_apigw_02.png)"
   ]
  },
  {
   "cell_type": "markdown",
   "id": "5b0e7af8",
   "metadata": {},
   "source": [
    "### Request"
   ]
  },
  {
   "cell_type": "markdown",
   "id": "284d6b29",
   "metadata": {},
   "source": [
    "![title](../images/aws_apigw_03.png)"
   ]
  },
  {
   "cell_type": "markdown",
   "id": "54634557",
   "metadata": {},
   "source": [
    "### Response"
   ]
  },
  {
   "cell_type": "markdown",
   "id": "f0d969df",
   "metadata": {},
   "source": [
    "![title](../images/aws_apigw_04.png)"
   ]
  },
  {
   "cell_type": "markdown",
   "id": "af4e72d0",
   "metadata": {},
   "source": [
    "# 📗 Lambda Function"
   ]
  },
  {
   "cell_type": "markdown",
   "id": "6b560e03",
   "metadata": {},
   "source": [
    "![title](../images/aws_apigw_05.png)"
   ]
  },
  {
   "cell_type": "markdown",
   "id": "cb65ea3a",
   "metadata": {},
   "source": [
    "### Request"
   ]
  },
  {
   "cell_type": "markdown",
   "id": "3b782370",
   "metadata": {},
   "source": [
    "![title](../images/aws_apigw_06.png)"
   ]
  },
  {
   "cell_type": "markdown",
   "id": "b371ff21",
   "metadata": {},
   "source": [
    "### Response"
   ]
  },
  {
   "cell_type": "markdown",
   "id": "3e8de5a9",
   "metadata": {},
   "source": [
    "![title](../images/aws_apigw_07.png)"
   ]
  },
  {
   "cell_type": "markdown",
   "id": "e00170a5",
   "metadata": {},
   "source": [
    "# 📘 Stages"
   ]
  },
  {
   "cell_type": "markdown",
   "id": "434a6049",
   "metadata": {},
   "source": [
    "* Sandbox (SBX)\n",
    "* Development (DEV)\n",
    "* Production (PRD)"
   ]
  },
  {
   "cell_type": "markdown",
   "id": "e729b04d",
   "metadata": {},
   "source": [
    "![title](../images/aws_apigw_08.png)"
   ]
  },
  {
   "cell_type": "markdown",
   "id": "24431317",
   "metadata": {},
   "source": [
    "## Sandbox (SBX) "
   ]
  },
  {
   "cell_type": "markdown",
   "id": "d482f186",
   "metadata": {},
   "source": [
    "### Request"
   ]
  },
  {
   "cell_type": "markdown",
   "id": "4f0e9c05",
   "metadata": {},
   "source": [
    "![title](../images/aws_apigw_09.png)"
   ]
  },
  {
   "cell_type": "markdown",
   "id": "d4b479a0",
   "metadata": {},
   "source": [
    "### Response"
   ]
  },
  {
   "cell_type": "markdown",
   "id": "33b64092",
   "metadata": {},
   "source": [
    "![title](../images/aws_apigw_10.png)"
   ]
  },
  {
   "cell_type": "markdown",
   "id": "265ccb0a",
   "metadata": {},
   "source": [
    "## Development (DEV) "
   ]
  },
  {
   "cell_type": "markdown",
   "id": "44373f55",
   "metadata": {},
   "source": [
    "### Request"
   ]
  },
  {
   "cell_type": "markdown",
   "id": "a15b730d",
   "metadata": {},
   "source": [
    "![title](../images/aws_apigw_06.png)"
   ]
  },
  {
   "cell_type": "markdown",
   "id": "accd0bbf",
   "metadata": {},
   "source": [
    "### Response"
   ]
  },
  {
   "cell_type": "markdown",
   "id": "c462c272",
   "metadata": {},
   "source": [
    "![title](../images/aws_apigw_07.png)"
   ]
  },
  {
   "cell_type": "markdown",
   "id": "9fda3e98",
   "metadata": {},
   "source": [
    "## Production (PRD) "
   ]
  },
  {
   "cell_type": "markdown",
   "id": "a4294a88",
   "metadata": {},
   "source": [
    "### Request"
   ]
  },
  {
   "cell_type": "markdown",
   "id": "3e0247c4",
   "metadata": {},
   "source": [
    "![title](../images/aws_apigw_11.png)"
   ]
  },
  {
   "cell_type": "markdown",
   "id": "0c2695be",
   "metadata": {},
   "source": [
    "### Response"
   ]
  },
  {
   "cell_type": "markdown",
   "id": "2a5e7692",
   "metadata": {},
   "source": [
    "![title](../images/aws_apigw_12.png)"
   ]
  },
  {
   "cell_type": "markdown",
   "id": "19dd4e90",
   "metadata": {},
   "source": [
    "# 📙 Canary Deployments"
   ]
  },
  {
   "cell_type": "markdown",
   "id": "bcc8a6ab",
   "metadata": {},
   "source": [
    "Production (PRD)\n",
    "\n",
    "* Canary -> 35% (DEV) Version 2\n",
    "* PRD -> 65% (PRD) Version 1"
   ]
  },
  {
   "cell_type": "markdown",
   "id": "4cb68e0e",
   "metadata": {},
   "source": [
    "![title](../images/aws_apigw_13.png)"
   ]
  },
  {
   "cell_type": "markdown",
   "id": "e9057e44",
   "metadata": {},
   "source": [
    "## Production (PRD)"
   ]
  },
  {
   "cell_type": "markdown",
   "id": "9d7a8a90",
   "metadata": {},
   "source": [
    "### Request/Response. 35% (DEV - Version 2.0)"
   ]
  },
  {
   "cell_type": "markdown",
   "id": "1cb89035",
   "metadata": {},
   "source": [
    "![title](../images/aws_apigw_14.png)"
   ]
  },
  {
   "cell_type": "markdown",
   "id": "9b52c3f6",
   "metadata": {},
   "source": [
    "### Request/Response. 65% (PRD - Version 1.0)"
   ]
  },
  {
   "cell_type": "markdown",
   "id": "dbc4105b",
   "metadata": {},
   "source": [
    "![title](../images/aws_apigw_15.png)"
   ]
  }
 ],
 "metadata": {
  "kernelspec": {
   "display_name": "Python 3 (ipykernel)",
   "language": "python",
   "name": "python3"
  },
  "language_info": {
   "codemirror_mode": {
    "name": "ipython",
    "version": 3
   },
   "file_extension": ".py",
   "mimetype": "text/x-python",
   "name": "python",
   "nbconvert_exporter": "python",
   "pygments_lexer": "ipython3",
   "version": "3.10.9"
  }
 },
 "nbformat": 4,
 "nbformat_minor": 5
}
