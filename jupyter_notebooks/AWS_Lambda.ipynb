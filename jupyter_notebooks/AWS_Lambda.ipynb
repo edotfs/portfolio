{
 "cells": [
  {
   "cell_type": "markdown",
   "id": "46eefaf0",
   "metadata": {},
   "source": [
    "# AWS"
   ]
  },
  {
   "cell_type": "markdown",
   "id": "7fadb269",
   "metadata": {},
   "source": [
    "# AWS Lambda"
   ]
  },
  {
   "cell_type": "markdown",
   "id": "8bd2a236",
   "metadata": {},
   "source": [
    "## Objective"
   ]
  },
  {
   "cell_type": "markdown",
   "id": "a6381c18",
   "metadata": {},
   "source": [
    "Develop, execute and expose lambda functions. "
   ]
  },
  {
   "cell_type": "markdown",
   "id": "02d29309",
   "metadata": {},
   "source": [
    "## Contents"
   ]
  },
  {
   "cell_type": "markdown",
   "id": "8557132c",
   "metadata": {},
   "source": [
    "* Synchronous\n",
    "* Asynchronous\n",
    "* HTTP(s) Endpoint - Elastic Load Balancing\n",
    "* HTTPS Endpoint - Amazon API Gateway"
   ]
  },
  {
   "cell_type": "markdown",
   "id": "34904403",
   "metadata": {},
   "source": [
    "## 📔 Synchronous"
   ]
  },
  {
   "cell_type": "markdown",
   "id": "284d6b29",
   "metadata": {},
   "source": [
    "![title](../images/aws_lambda_01.png)"
   ]
  },
  {
   "cell_type": "markdown",
   "id": "f0d969df",
   "metadata": {},
   "source": [
    "![title](../images/aws_lambda_02.png)"
   ]
  },
  {
   "cell_type": "markdown",
   "id": "af4e72d0",
   "metadata": {},
   "source": [
    "## 📕 Asynchronous"
   ]
  },
  {
   "cell_type": "markdown",
   "id": "6b560e03",
   "metadata": {},
   "source": [
    "![title](../images/aws_lambda_03.png)"
   ]
  },
  {
   "cell_type": "markdown",
   "id": "09e1342e",
   "metadata": {},
   "source": [
    "![title](../images/aws_lambda_04.png)"
   ]
  },
  {
   "cell_type": "markdown",
   "id": "83c7c70d",
   "metadata": {},
   "source": [
    "![title](../images/aws_lambda_05.png)"
   ]
  },
  {
   "cell_type": "markdown",
   "id": "cb65ea3a",
   "metadata": {},
   "source": [
    "![title](../images/aws_lambda_06.png)"
   ]
  },
  {
   "cell_type": "markdown",
   "id": "e00170a5",
   "metadata": {},
   "source": [
    "## 📗 Elastic Load Balancing"
   ]
  },
  {
   "cell_type": "markdown",
   "id": "6d17e5eb",
   "metadata": {},
   "source": [
    "### Aplication Load Balancer"
   ]
  },
  {
   "cell_type": "markdown",
   "id": "33b64092",
   "metadata": {},
   "source": [
    "![title](../images/aws_lambda_07.png)"
   ]
  },
  {
   "cell_type": "markdown",
   "id": "e9057e44",
   "metadata": {},
   "source": [
    "### Request"
   ]
  },
  {
   "cell_type": "markdown",
   "id": "1cb89035",
   "metadata": {},
   "source": [
    "![title](../images/aws_lambda_08.png)"
   ]
  },
  {
   "cell_type": "markdown",
   "id": "9b52c3f6",
   "metadata": {},
   "source": [
    "### Response"
   ]
  },
  {
   "cell_type": "markdown",
   "id": "dbc4105b",
   "metadata": {},
   "source": [
    "![title](../images/aws_lambda_09.png)"
   ]
  },
  {
   "cell_type": "markdown",
   "id": "7bd07d87",
   "metadata": {},
   "source": [
    "## 📙 Amazon API Gateway"
   ]
  },
  {
   "cell_type": "markdown",
   "id": "d15e6e0a",
   "metadata": {},
   "source": [
    "## API"
   ]
  },
  {
   "cell_type": "markdown",
   "id": "7238481c",
   "metadata": {},
   "source": [
    "![title](../images/aws_lambda_10.png)"
   ]
  },
  {
   "cell_type": "markdown",
   "id": "f38cd38e",
   "metadata": {},
   "source": [
    "## Method"
   ]
  },
  {
   "cell_type": "markdown",
   "id": "1f32d8c1",
   "metadata": {},
   "source": [
    "![title](../images/aws_lambda_11.png)"
   ]
  },
  {
   "cell_type": "markdown",
   "id": "84a48294",
   "metadata": {},
   "source": [
    "### Request"
   ]
  },
  {
   "cell_type": "markdown",
   "id": "6ad2466e",
   "metadata": {},
   "source": [
    "![title](../images/aws_lambda_12.png)"
   ]
  },
  {
   "cell_type": "markdown",
   "id": "97d5176a",
   "metadata": {},
   "source": [
    "### Response"
   ]
  },
  {
   "cell_type": "markdown",
   "id": "c30c6373",
   "metadata": {},
   "source": [
    "![title](../images/aws_lambda_13.png)"
   ]
  },
  {
   "cell_type": "code",
   "execution_count": null,
   "id": "65837429",
   "metadata": {},
   "outputs": [],
   "source": []
  }
 ],
 "metadata": {
  "kernelspec": {
   "display_name": "Python 3 (ipykernel)",
   "language": "python",
   "name": "python3"
  },
  "language_info": {
   "codemirror_mode": {
    "name": "ipython",
    "version": 3
   },
   "file_extension": ".py",
   "mimetype": "text/x-python",
   "name": "python",
   "nbconvert_exporter": "python",
   "pygments_lexer": "ipython3",
   "version": "3.10.9"
  }
 },
 "nbformat": 4,
 "nbformat_minor": 5
}
