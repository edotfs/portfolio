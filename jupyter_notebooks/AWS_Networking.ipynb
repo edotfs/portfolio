{
 "cells": [
  {
   "cell_type": "markdown",
   "id": "46eefaf0",
   "metadata": {},
   "source": [
    "# AWS"
   ]
  },
  {
   "cell_type": "markdown",
   "id": "7fadb269",
   "metadata": {},
   "source": [
    "# Networking"
   ]
  },
  {
   "cell_type": "markdown",
   "id": "2f67e36c",
   "metadata": {},
   "source": [
    "## Objective"
   ]
  },
  {
   "cell_type": "markdown",
   "id": "ebbbb9d3",
   "metadata": {},
   "source": [
    "Develop diverse networking architectures through the integration of different AWS resources and services."
   ]
  },
  {
   "cell_type": "markdown",
   "id": "8c5223c4",
   "metadata": {},
   "source": [
    "## Contents"
   ]
  },
  {
   "cell_type": "markdown",
   "id": "0e07b372",
   "metadata": {},
   "source": [
    "* 📕 Public Subnet\n",
    "* 📘 Private Subnet\n",
    "* 📗 NAT Gateway\n",
    "* 📙 VPC Peering"
   ]
  },
  {
   "cell_type": "markdown",
   "id": "9dc841bd",
   "metadata": {},
   "source": [
    "# 📕 Public Subnet"
   ]
  },
  {
   "cell_type": "markdown",
   "id": "c4d4a739",
   "metadata": {},
   "source": [
    "## Architecture Diagram"
   ]
  },
  {
   "cell_type": "markdown",
   "id": "006fc093",
   "metadata": {},
   "source": [
    "![title](../images/aws_ntw_pub_01.png)"
   ]
  },
  {
   "cell_type": "markdown",
   "id": "04e92f93",
   "metadata": {},
   "source": [
    "## VPC"
   ]
  },
  {
   "cell_type": "markdown",
   "id": "0da854e8",
   "metadata": {},
   "source": [
    "![title](../images/aws_ntw_pub_02.png)"
   ]
  },
  {
   "cell_type": "markdown",
   "id": "f8a51776",
   "metadata": {},
   "source": [
    "## Subnet"
   ]
  },
  {
   "cell_type": "markdown",
   "id": "74929926",
   "metadata": {},
   "source": [
    "![title](../images/aws_ntw_pub_03.png)"
   ]
  },
  {
   "cell_type": "markdown",
   "id": "342a2da0",
   "metadata": {},
   "source": [
    "## Internet Gateway"
   ]
  },
  {
   "cell_type": "markdown",
   "id": "0172ead2",
   "metadata": {},
   "source": [
    "![title](../images/aws_ntw_pub_04.png)"
   ]
  },
  {
   "cell_type": "markdown",
   "id": "c5a6c326",
   "metadata": {},
   "source": [
    "## Route Table"
   ]
  },
  {
   "cell_type": "markdown",
   "id": "ea4c773c",
   "metadata": {},
   "source": [
    "![title](../images/aws_ntw_pub_05.png)"
   ]
  },
  {
   "cell_type": "markdown",
   "id": "916432a6",
   "metadata": {},
   "source": [
    "## Security Group"
   ]
  },
  {
   "cell_type": "markdown",
   "id": "682899a2",
   "metadata": {},
   "source": [
    "![title](../images/aws_ntw_pub_06.png)"
   ]
  },
  {
   "cell_type": "markdown",
   "id": "b40991ad",
   "metadata": {},
   "source": [
    "## Instance"
   ]
  },
  {
   "cell_type": "markdown",
   "id": "5f18fc1c",
   "metadata": {},
   "source": [
    "![title](../images/aws_ntw_pub_07.png)"
   ]
  },
  {
   "cell_type": "markdown",
   "id": "43e27f18",
   "metadata": {},
   "source": [
    "## SSH Connection - Port 22"
   ]
  },
  {
   "cell_type": "markdown",
   "id": "6732269c",
   "metadata": {},
   "source": [
    "![title](../images/aws_ntw_pub_08.png)"
   ]
  },
  {
   "cell_type": "markdown",
   "id": "77d839b7",
   "metadata": {},
   "source": [
    "## HTTP Connection - Port 80"
   ]
  },
  {
   "cell_type": "markdown",
   "id": "5d3601c0",
   "metadata": {},
   "source": [
    "![title](../images/aws_ntw_pub_09.png)"
   ]
  },
  {
   "cell_type": "markdown",
   "id": "27399df6",
   "metadata": {},
   "source": [
    "# 📘 Private Subnet"
   ]
  },
  {
   "cell_type": "markdown",
   "id": "843d6b78",
   "metadata": {},
   "source": [
    "## Architecture Diagram"
   ]
  },
  {
   "cell_type": "markdown",
   "id": "b6bdf03d",
   "metadata": {},
   "source": [
    "![title](../images/aws_ntw_pri_01.png)"
   ]
  },
  {
   "cell_type": "markdown",
   "id": "1d19d7e1",
   "metadata": {},
   "source": [
    "## VPC"
   ]
  },
  {
   "cell_type": "markdown",
   "id": "8756947d",
   "metadata": {},
   "source": [
    "![title](../images/aws_ntw_pri_02.png)"
   ]
  },
  {
   "cell_type": "markdown",
   "id": "3a124088",
   "metadata": {},
   "source": [
    "## Subnets"
   ]
  },
  {
   "cell_type": "markdown",
   "id": "9fea702c",
   "metadata": {},
   "source": [
    "![title](../images/aws_ntw_pri_03.png)"
   ]
  },
  {
   "cell_type": "markdown",
   "id": "d8c53f16",
   "metadata": {},
   "source": [
    "## Internet Gateway"
   ]
  },
  {
   "cell_type": "markdown",
   "id": "806a4736",
   "metadata": {},
   "source": [
    "![title](../images/aws_ntw_pri_04.png)"
   ]
  },
  {
   "cell_type": "markdown",
   "id": "33d41839",
   "metadata": {},
   "source": [
    "## Route Tables"
   ]
  },
  {
   "cell_type": "markdown",
   "id": "98480114",
   "metadata": {},
   "source": [
    "![title](../images/aws_ntw_pri_05.png)"
   ]
  },
  {
   "cell_type": "markdown",
   "id": "d56e17aa",
   "metadata": {},
   "source": [
    "## Security Groups"
   ]
  },
  {
   "cell_type": "markdown",
   "id": "248abbca",
   "metadata": {},
   "source": [
    "![title](../images/aws_ntw_pri_06.png)"
   ]
  },
  {
   "cell_type": "markdown",
   "id": "84e078e1",
   "metadata": {},
   "source": [
    "## Instances"
   ]
  },
  {
   "cell_type": "markdown",
   "id": "9aedb6cc",
   "metadata": {},
   "source": [
    "![title](../images/aws_ntw_pri_07.png)"
   ]
  },
  {
   "cell_type": "markdown",
   "id": "46cdc6a3",
   "metadata": {},
   "source": [
    "## Public Subnet - Bastion Host - SSH "
   ]
  },
  {
   "cell_type": "markdown",
   "id": "01eb56af",
   "metadata": {},
   "source": [
    "![title](../images/aws_ntw_pri_08.png)"
   ]
  },
  {
   "cell_type": "markdown",
   "id": "310561e1",
   "metadata": {},
   "source": [
    "## Private Subnet - Instance - SSH"
   ]
  },
  {
   "cell_type": "markdown",
   "id": "067b598a",
   "metadata": {},
   "source": [
    "![title](../images/aws_ntw_pri_09.png)"
   ]
  },
  {
   "cell_type": "markdown",
   "id": "949a91dd",
   "metadata": {},
   "source": [
    "## Private Subnet - Unsuccessful Outbound Connection ❌"
   ]
  },
  {
   "cell_type": "markdown",
   "id": "a7894604",
   "metadata": {},
   "source": [
    "![title](../images/aws_ntw_pri_10.png)"
   ]
  },
  {
   "cell_type": "markdown",
   "id": "af4e72d0",
   "metadata": {},
   "source": [
    "# 📗 NAT Gateway"
   ]
  },
  {
   "cell_type": "markdown",
   "id": "bd32dc59",
   "metadata": {},
   "source": [
    "## Architecture Diagram"
   ]
  },
  {
   "cell_type": "markdown",
   "id": "ee76deb0",
   "metadata": {},
   "source": [
    "![title](../images/aws_ntw_pri_11.png)"
   ]
  },
  {
   "cell_type": "markdown",
   "id": "7afca4c0",
   "metadata": {},
   "source": [
    "## NAT Gateway"
   ]
  },
  {
   "cell_type": "markdown",
   "id": "0341f5f6",
   "metadata": {},
   "source": [
    "![title](../images/aws_ntw_pri_12.png)"
   ]
  },
  {
   "cell_type": "markdown",
   "id": "c39b8777",
   "metadata": {},
   "source": [
    "## Public Subnet - Bastion Host - SSH"
   ]
  },
  {
   "cell_type": "markdown",
   "id": "2179dff7",
   "metadata": {},
   "source": [
    "![title](../images/aws_ntw_pri_08.png)"
   ]
  },
  {
   "cell_type": "markdown",
   "id": "ff55b73c",
   "metadata": {},
   "source": [
    "## Private Subnet - Instance - SSH"
   ]
  },
  {
   "cell_type": "markdown",
   "id": "d04fe23a",
   "metadata": {},
   "source": [
    "![title](../images/aws_ntw_pri_09.png)"
   ]
  },
  {
   "cell_type": "markdown",
   "id": "3d5a1ab5",
   "metadata": {},
   "source": [
    "## Private Subnet - Instance - Successful Outbound Connection ✅"
   ]
  },
  {
   "cell_type": "markdown",
   "id": "972d954e",
   "metadata": {},
   "source": [
    "![title](../images/aws_ntw_pri_13.png)"
   ]
  },
  {
   "cell_type": "markdown",
   "id": "e00170a5",
   "metadata": {},
   "source": [
    "# 📘 VPC Peering"
   ]
  },
  {
   "cell_type": "markdown",
   "id": "0c2695be",
   "metadata": {},
   "source": [
    "## Architecture Diagram"
   ]
  },
  {
   "cell_type": "markdown",
   "id": "2a5e7692",
   "metadata": {},
   "source": [
    "![title](../images/aws_ntw_pee_01.png)"
   ]
  },
  {
   "cell_type": "markdown",
   "id": "0f3fc5ff",
   "metadata": {},
   "source": [
    "## VPC - Region A & Region B"
   ]
  },
  {
   "cell_type": "markdown",
   "id": "6ae85492",
   "metadata": {},
   "source": [
    "* Region A - us-east-1\n",
    "* Region B - us-east-2"
   ]
  },
  {
   "cell_type": "markdown",
   "id": "3c29d20c",
   "metadata": {},
   "source": [
    "![title](../images/aws_ntw_pee_02.png)"
   ]
  },
  {
   "cell_type": "markdown",
   "id": "efd3b8ba",
   "metadata": {},
   "source": [
    "![title](../images/aws_ntw_pee_03.png)"
   ]
  },
  {
   "cell_type": "markdown",
   "id": "ee36d371",
   "metadata": {},
   "source": [
    "## Instance - Region A & Region B"
   ]
  },
  {
   "cell_type": "markdown",
   "id": "1c10ee7f",
   "metadata": {},
   "source": [
    "![title](../images/aws_ntw_pee_04.png)"
   ]
  },
  {
   "cell_type": "markdown",
   "id": "68b24b72",
   "metadata": {},
   "source": [
    "![title](../images/aws_ntw_pee_05.png)"
   ]
  },
  {
   "cell_type": "markdown",
   "id": "0ea9f9c1",
   "metadata": {},
   "source": [
    "## Peering Connection - Region A & Region B"
   ]
  },
  {
   "cell_type": "markdown",
   "id": "6717c899",
   "metadata": {},
   "source": [
    "![title](../images/aws_ntw_pee_06.png)"
   ]
  },
  {
   "cell_type": "markdown",
   "id": "f35ad8ae",
   "metadata": {},
   "source": [
    "![title](../images/aws_ntw_pee_07.png)"
   ]
  },
  {
   "cell_type": "markdown",
   "id": "8ffa067e",
   "metadata": {},
   "source": [
    "## Connection from Region A to Region B ✅"
   ]
  },
  {
   "cell_type": "markdown",
   "id": "9ff89477",
   "metadata": {},
   "source": [
    "![title](../images/aws_ntw_pee_08.png)"
   ]
  },
  {
   "cell_type": "markdown",
   "id": "078528fa",
   "metadata": {},
   "source": [
    "## Connection from Region B to Region A ✅"
   ]
  },
  {
   "cell_type": "markdown",
   "id": "f68bc9db",
   "metadata": {},
   "source": [
    "![title](../images/aws_ntw_pee_09.png)"
   ]
  },
  {
   "cell_type": "code",
   "execution_count": null,
   "id": "1ae19318",
   "metadata": {},
   "outputs": [],
   "source": []
  }
 ],
 "metadata": {
  "kernelspec": {
   "display_name": "Python 3 (ipykernel)",
   "language": "python",
   "name": "python3"
  },
  "language_info": {
   "codemirror_mode": {
    "name": "ipython",
    "version": 3
   },
   "file_extension": ".py",
   "mimetype": "text/x-python",
   "name": "python",
   "nbconvert_exporter": "python",
   "pygments_lexer": "ipython3",
   "version": "3.10.9"
  }
 },
 "nbformat": 4,
 "nbformat_minor": 5
}
