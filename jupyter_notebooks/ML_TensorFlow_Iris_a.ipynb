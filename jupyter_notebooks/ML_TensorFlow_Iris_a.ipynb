{
 "cells": [
  {
   "cell_type": "markdown",
   "metadata": {},
   "source": [
    "# Machine Learning"
   ]
  },
  {
   "cell_type": "markdown",
   "metadata": {},
   "source": [
    "# Iris Species"
   ]
  },
  {
   "cell_type": "markdown",
   "metadata": {},
   "source": [
    "## Python, Pandas, Scikit-learn, Keras, Numpy & TensorFlow 2"
   ]
  },
  {
   "cell_type": "markdown",
   "metadata": {},
   "source": [
    "## Introduction"
   ]
  },
  {
   "cell_type": "markdown",
   "metadata": {},
   "source": [
    "The objective is to develop a classification model using the Iris dataset and TensorFlow 2.\n",
    "\n",
    "The data set has five columns:\n",
    "\n",
    "- sepal length (cm)\n",
    "- sepal width (cm)\n",
    "- petal length (cm)\n",
    "- petal width (cm)\n",
    "- target\n",
    "\n",
    "The Iris dataset contains three classes\n",
    "\n",
    "- Setosa (0)\n",
    "- Versicolor (1)\n",
    "- Virginica (2)\n",
    "\n",
    "each one has 50 records of sepal length and width and petal length and width in centimeters. "
   ]
  },
  {
   "cell_type": "markdown",
   "metadata": {},
   "source": [
    "## Data Analysis"
   ]
  },
  {
   "cell_type": "markdown",
   "metadata": {},
   "source": [
    "Import libraries."
   ]
  },
  {
   "cell_type": "code",
   "execution_count": 37,
   "metadata": {},
   "outputs": [],
   "source": [
    "import tensorflow as tf\n",
    "import pandas as pd\n",
    "from sklearn.model_selection import train_test_split\n",
    "from tensorflow.keras import Sequential\n",
    "from keras.layers import Activation, Dense\n",
    "from numpy import argmax"
   ]
  },
  {
   "cell_type": "code",
   "execution_count": 5,
   "metadata": {},
   "outputs": [
    {
     "data": {
      "text/plain": [
       "'2.5.0'"
      ]
     },
     "execution_count": 5,
     "metadata": {},
     "output_type": "execute_result"
    }
   ],
   "source": [
    "tf.version.VERSION"
   ]
  },
  {
   "cell_type": "markdown",
   "metadata": {},
   "source": [
    "Load the Iris dataset into a Pandas DataFrame."
   ]
  },
  {
   "cell_type": "code",
   "execution_count": 22,
   "metadata": {},
   "outputs": [],
   "source": [
    "df_base_iris = pd.read_csv(\"iris.csv\")"
   ]
  },
  {
   "cell_type": "markdown",
   "metadata": {},
   "source": [
    "Shuffle the dataset"
   ]
  },
  {
   "cell_type": "code",
   "execution_count": 23,
   "metadata": {},
   "outputs": [],
   "source": [
    "df_iris = df_base_iris.sample(frac=1)"
   ]
  },
  {
   "cell_type": "markdown",
   "metadata": {},
   "source": [
    "Explore values and dimensions of the DataFrame."
   ]
  },
  {
   "cell_type": "code",
   "execution_count": 24,
   "metadata": {},
   "outputs": [
    {
     "data": {
      "text/html": [
       "<div>\n",
       "<style scoped>\n",
       "    .dataframe tbody tr th:only-of-type {\n",
       "        vertical-align: middle;\n",
       "    }\n",
       "\n",
       "    .dataframe tbody tr th {\n",
       "        vertical-align: top;\n",
       "    }\n",
       "\n",
       "    .dataframe thead th {\n",
       "        text-align: right;\n",
       "    }\n",
       "</style>\n",
       "<table border=\"1\" class=\"dataframe\">\n",
       "  <thead>\n",
       "    <tr style=\"text-align: right;\">\n",
       "      <th></th>\n",
       "      <th>Sepal.Length</th>\n",
       "      <th>Sepal.Width</th>\n",
       "      <th>Petal.Length</th>\n",
       "      <th>Petal.Width</th>\n",
       "      <th>target</th>\n",
       "    </tr>\n",
       "  </thead>\n",
       "  <tbody>\n",
       "    <tr>\n",
       "      <th>146</th>\n",
       "      <td>6.3</td>\n",
       "      <td>2.5</td>\n",
       "      <td>5.0</td>\n",
       "      <td>1.9</td>\n",
       "      <td>2</td>\n",
       "    </tr>\n",
       "    <tr>\n",
       "      <th>118</th>\n",
       "      <td>7.7</td>\n",
       "      <td>2.6</td>\n",
       "      <td>6.9</td>\n",
       "      <td>2.3</td>\n",
       "      <td>2</td>\n",
       "    </tr>\n",
       "    <tr>\n",
       "      <th>79</th>\n",
       "      <td>5.7</td>\n",
       "      <td>2.6</td>\n",
       "      <td>3.5</td>\n",
       "      <td>1.0</td>\n",
       "      <td>1</td>\n",
       "    </tr>\n",
       "    <tr>\n",
       "      <th>35</th>\n",
       "      <td>5.0</td>\n",
       "      <td>3.2</td>\n",
       "      <td>1.2</td>\n",
       "      <td>0.2</td>\n",
       "      <td>0</td>\n",
       "    </tr>\n",
       "    <tr>\n",
       "      <th>140</th>\n",
       "      <td>6.7</td>\n",
       "      <td>3.1</td>\n",
       "      <td>5.6</td>\n",
       "      <td>2.4</td>\n",
       "      <td>2</td>\n",
       "    </tr>\n",
       "  </tbody>\n",
       "</table>\n",
       "</div>"
      ],
      "text/plain": [
       "     Sepal.Length  Sepal.Width  Petal.Length  Petal.Width  target\n",
       "146           6.3          2.5           5.0          1.9       2\n",
       "118           7.7          2.6           6.9          2.3       2\n",
       "79            5.7          2.6           3.5          1.0       1\n",
       "35            5.0          3.2           1.2          0.2       0\n",
       "140           6.7          3.1           5.6          2.4       2"
      ]
     },
     "execution_count": 24,
     "metadata": {},
     "output_type": "execute_result"
    }
   ],
   "source": [
    "df_iris.head()"
   ]
  },
  {
   "cell_type": "code",
   "execution_count": 25,
   "metadata": {},
   "outputs": [
    {
     "data": {
      "text/html": [
       "<div>\n",
       "<style scoped>\n",
       "    .dataframe tbody tr th:only-of-type {\n",
       "        vertical-align: middle;\n",
       "    }\n",
       "\n",
       "    .dataframe tbody tr th {\n",
       "        vertical-align: top;\n",
       "    }\n",
       "\n",
       "    .dataframe thead th {\n",
       "        text-align: right;\n",
       "    }\n",
       "</style>\n",
       "<table border=\"1\" class=\"dataframe\">\n",
       "  <thead>\n",
       "    <tr style=\"text-align: right;\">\n",
       "      <th></th>\n",
       "      <th>Sepal.Length</th>\n",
       "      <th>Sepal.Width</th>\n",
       "      <th>Petal.Length</th>\n",
       "      <th>Petal.Width</th>\n",
       "      <th>target</th>\n",
       "    </tr>\n",
       "  </thead>\n",
       "  <tbody>\n",
       "    <tr>\n",
       "      <th>59</th>\n",
       "      <td>5.2</td>\n",
       "      <td>2.7</td>\n",
       "      <td>3.9</td>\n",
       "      <td>1.4</td>\n",
       "      <td>1</td>\n",
       "    </tr>\n",
       "    <tr>\n",
       "      <th>54</th>\n",
       "      <td>6.5</td>\n",
       "      <td>2.8</td>\n",
       "      <td>4.6</td>\n",
       "      <td>1.5</td>\n",
       "      <td>1</td>\n",
       "    </tr>\n",
       "    <tr>\n",
       "      <th>124</th>\n",
       "      <td>6.7</td>\n",
       "      <td>3.3</td>\n",
       "      <td>5.7</td>\n",
       "      <td>2.1</td>\n",
       "      <td>2</td>\n",
       "    </tr>\n",
       "    <tr>\n",
       "      <th>31</th>\n",
       "      <td>5.4</td>\n",
       "      <td>3.4</td>\n",
       "      <td>1.5</td>\n",
       "      <td>0.4</td>\n",
       "      <td>0</td>\n",
       "    </tr>\n",
       "    <tr>\n",
       "      <th>12</th>\n",
       "      <td>4.8</td>\n",
       "      <td>3.0</td>\n",
       "      <td>1.4</td>\n",
       "      <td>0.1</td>\n",
       "      <td>0</td>\n",
       "    </tr>\n",
       "  </tbody>\n",
       "</table>\n",
       "</div>"
      ],
      "text/plain": [
       "     Sepal.Length  Sepal.Width  Petal.Length  Petal.Width  target\n",
       "59            5.2          2.7           3.9          1.4       1\n",
       "54            6.5          2.8           4.6          1.5       1\n",
       "124           6.7          3.3           5.7          2.1       2\n",
       "31            5.4          3.4           1.5          0.4       0\n",
       "12            4.8          3.0           1.4          0.1       0"
      ]
     },
     "execution_count": 25,
     "metadata": {},
     "output_type": "execute_result"
    }
   ],
   "source": [
    "df_iris.tail()"
   ]
  },
  {
   "cell_type": "code",
   "execution_count": 26,
   "metadata": {},
   "outputs": [
    {
     "data": {
      "text/plain": [
       "(150, 5)"
      ]
     },
     "execution_count": 26,
     "metadata": {},
     "output_type": "execute_result"
    }
   ],
   "source": [
    "df_iris.shape"
   ]
  },
  {
   "cell_type": "code",
   "execution_count": 27,
   "metadata": {},
   "outputs": [
    {
     "data": {
      "text/plain": [
       "target\n",
       "0    50\n",
       "1    50\n",
       "2    50\n",
       "dtype: int64"
      ]
     },
     "execution_count": 27,
     "metadata": {},
     "output_type": "execute_result"
    }
   ],
   "source": [
    "df_iris.groupby(\"target\").size()"
   ]
  },
  {
   "cell_type": "markdown",
   "metadata": {},
   "source": [
    "Column names must be adjusted and target column must be casted from float to int."
   ]
  },
  {
   "cell_type": "code",
   "execution_count": 28,
   "metadata": {},
   "outputs": [
    {
     "data": {
      "text/plain": [
       "Index(['Sepal.Length', 'Sepal.Width', 'Petal.Length', 'Petal.Width', 'target'], dtype='object')"
      ]
     },
     "execution_count": 28,
     "metadata": {},
     "output_type": "execute_result"
    }
   ],
   "source": [
    "df_iris.columns"
   ]
  },
  {
   "cell_type": "code",
   "execution_count": 29,
   "metadata": {},
   "outputs": [],
   "source": [
    "df_iris.columns = ['sepal_len_cm', 'sepal_w_cm', 'petal_len_cm', 'petal_w_cm', 'target']"
   ]
  },
  {
   "cell_type": "code",
   "execution_count": 30,
   "metadata": {},
   "outputs": [
    {
     "data": {
      "text/plain": [
       "Index(['sepal_len_cm', 'sepal_w_cm', 'petal_len_cm', 'petal_w_cm', 'target'], dtype='object')"
      ]
     },
     "execution_count": 30,
     "metadata": {},
     "output_type": "execute_result"
    }
   ],
   "source": [
    "df_iris.columns"
   ]
  },
  {
   "cell_type": "code",
   "execution_count": 31,
   "metadata": {},
   "outputs": [],
   "source": [
    "df_iris[\"target\"] = df_iris[\"target\"].apply(int)"
   ]
  },
  {
   "cell_type": "markdown",
   "metadata": {},
   "source": [
    "After some adjustments, there are no spaces between column names and target column is int type."
   ]
  },
  {
   "cell_type": "code",
   "execution_count": 32,
   "metadata": {},
   "outputs": [
    {
     "data": {
      "text/html": [
       "<div>\n",
       "<style scoped>\n",
       "    .dataframe tbody tr th:only-of-type {\n",
       "        vertical-align: middle;\n",
       "    }\n",
       "\n",
       "    .dataframe tbody tr th {\n",
       "        vertical-align: top;\n",
       "    }\n",
       "\n",
       "    .dataframe thead th {\n",
       "        text-align: right;\n",
       "    }\n",
       "</style>\n",
       "<table border=\"1\" class=\"dataframe\">\n",
       "  <thead>\n",
       "    <tr style=\"text-align: right;\">\n",
       "      <th></th>\n",
       "      <th>sepal_len_cm</th>\n",
       "      <th>sepal_w_cm</th>\n",
       "      <th>petal_len_cm</th>\n",
       "      <th>petal_w_cm</th>\n",
       "      <th>target</th>\n",
       "    </tr>\n",
       "  </thead>\n",
       "  <tbody>\n",
       "    <tr>\n",
       "      <th>146</th>\n",
       "      <td>6.3</td>\n",
       "      <td>2.5</td>\n",
       "      <td>5.0</td>\n",
       "      <td>1.9</td>\n",
       "      <td>2</td>\n",
       "    </tr>\n",
       "    <tr>\n",
       "      <th>118</th>\n",
       "      <td>7.7</td>\n",
       "      <td>2.6</td>\n",
       "      <td>6.9</td>\n",
       "      <td>2.3</td>\n",
       "      <td>2</td>\n",
       "    </tr>\n",
       "    <tr>\n",
       "      <th>79</th>\n",
       "      <td>5.7</td>\n",
       "      <td>2.6</td>\n",
       "      <td>3.5</td>\n",
       "      <td>1.0</td>\n",
       "      <td>1</td>\n",
       "    </tr>\n",
       "    <tr>\n",
       "      <th>35</th>\n",
       "      <td>5.0</td>\n",
       "      <td>3.2</td>\n",
       "      <td>1.2</td>\n",
       "      <td>0.2</td>\n",
       "      <td>0</td>\n",
       "    </tr>\n",
       "    <tr>\n",
       "      <th>140</th>\n",
       "      <td>6.7</td>\n",
       "      <td>3.1</td>\n",
       "      <td>5.6</td>\n",
       "      <td>2.4</td>\n",
       "      <td>2</td>\n",
       "    </tr>\n",
       "  </tbody>\n",
       "</table>\n",
       "</div>"
      ],
      "text/plain": [
       "     sepal_len_cm  sepal_w_cm  petal_len_cm  petal_w_cm  target\n",
       "146           6.3         2.5           5.0         1.9       2\n",
       "118           7.7         2.6           6.9         2.3       2\n",
       "79            5.7         2.6           3.5         1.0       1\n",
       "35            5.0         3.2           1.2         0.2       0\n",
       "140           6.7         3.1           5.6         2.4       2"
      ]
     },
     "execution_count": 32,
     "metadata": {},
     "output_type": "execute_result"
    }
   ],
   "source": [
    "df_iris.head()"
   ]
  },
  {
   "cell_type": "markdown",
   "metadata": {},
   "source": [
    "It is time to split the dataset between train and test."
   ]
  },
  {
   "cell_type": "code",
   "execution_count": 46,
   "metadata": {},
   "outputs": [],
   "source": [
    "X = df_iris[['sepal_len_cm', 'sepal_w_cm', 'petal_len_cm', 'petal_w_cm']]"
   ]
  },
  {
   "cell_type": "code",
   "execution_count": 47,
   "metadata": {},
   "outputs": [],
   "source": [
    "y = df_iris[\"target\"]"
   ]
  },
  {
   "cell_type": "markdown",
   "metadata": {},
   "source": [
    "Data set = Train (70%) & Test (30%)"
   ]
  },
  {
   "cell_type": "code",
   "execution_count": 48,
   "metadata": {},
   "outputs": [],
   "source": [
    "X_train, X_test, y_train, y_test = train_test_split(X, y, test_size=0.3)"
   ]
  },
  {
   "cell_type": "markdown",
   "metadata": {},
   "source": [
    "## Nerural Network"
   ]
  },
  {
   "cell_type": "code",
   "execution_count": 40,
   "metadata": {},
   "outputs": [],
   "source": [
    "model = Sequential()"
   ]
  },
  {
   "cell_type": "code",
   "execution_count": 41,
   "metadata": {},
   "outputs": [],
   "source": [
    "model.add(Dense(10, activation=\"relu\", input_shape=(4,)))"
   ]
  },
  {
   "cell_type": "code",
   "execution_count": 42,
   "metadata": {},
   "outputs": [],
   "source": [
    "model.add(Dense(6, activation=\"relu\"))"
   ]
  },
  {
   "cell_type": "code",
   "execution_count": 43,
   "metadata": {},
   "outputs": [],
   "source": [
    "model.add(Dense(3, activation=\"softmax\"))"
   ]
  },
  {
   "cell_type": "code",
   "execution_count": 44,
   "metadata": {},
   "outputs": [],
   "source": [
    "model.compile(optimizer=\"adam\", loss=\"sparse_categorical_crossentropy\", metrics=\"accuracy\")"
   ]
  },
  {
   "cell_type": "markdown",
   "metadata": {},
   "source": [
    "## Training"
   ]
  },
  {
   "cell_type": "code",
   "execution_count": 49,
   "metadata": {},
   "outputs": [
    {
     "name": "stdout",
     "output_type": "stream",
     "text": [
      "Epoch 1/120\n",
      "4/4 [==============================] - 1s 6ms/step - loss: 1.2580 - accuracy: 0.2952\n",
      "Epoch 2/120\n",
      "4/4 [==============================] - 0s 4ms/step - loss: 1.2051 - accuracy: 0.2952\n",
      "Epoch 3/120\n",
      "4/4 [==============================] - 0s 5ms/step - loss: 1.1582 - accuracy: 0.2952\n",
      "Epoch 4/120\n",
      "4/4 [==============================] - 0s 4ms/step - loss: 1.1131 - accuracy: 0.2952\n",
      "Epoch 5/120\n",
      "4/4 [==============================] - 0s 5ms/step - loss: 1.0817 - accuracy: 0.2952\n",
      "Epoch 6/120\n",
      "4/4 [==============================] - 0s 3ms/step - loss: 1.0578 - accuracy: 0.3429\n",
      "Epoch 7/120\n",
      "4/4 [==============================] - 0s 5ms/step - loss: 1.0355 - accuracy: 0.5333\n",
      "Epoch 8/120\n",
      "4/4 [==============================] - 0s 5ms/step - loss: 1.0205 - accuracy: 0.6476\n",
      "Epoch 9/120\n",
      "4/4 [==============================] - 0s 4ms/step - loss: 1.0088 - accuracy: 0.6667\n",
      "Epoch 10/120\n",
      "4/4 [==============================] - 0s 4ms/step - loss: 0.9990 - accuracy: 0.6667\n",
      "Epoch 11/120\n",
      "4/4 [==============================] - 0s 5ms/step - loss: 0.9920 - accuracy: 0.6667\n",
      "Epoch 12/120\n",
      "4/4 [==============================] - 0s 4ms/step - loss: 0.9874 - accuracy: 0.6667\n",
      "Epoch 13/120\n",
      "4/4 [==============================] - 0s 6ms/step - loss: 0.9830 - accuracy: 0.6667\n",
      "Epoch 14/120\n",
      "4/4 [==============================] - 0s 4ms/step - loss: 0.9793 - accuracy: 0.6667\n",
      "Epoch 15/120\n",
      "4/4 [==============================] - 0s 4ms/step - loss: 0.9743 - accuracy: 0.6667\n",
      "Epoch 16/120\n",
      "4/4 [==============================] - 0s 5ms/step - loss: 0.9696 - accuracy: 0.6667\n",
      "Epoch 17/120\n",
      "4/4 [==============================] - 0s 3ms/step - loss: 0.9652 - accuracy: 0.6667\n",
      "Epoch 18/120\n",
      "4/4 [==============================] - 0s 5ms/step - loss: 0.9608 - accuracy: 0.6667\n",
      "Epoch 19/120\n",
      "4/4 [==============================] - 0s 4ms/step - loss: 0.9571 - accuracy: 0.6667\n",
      "Epoch 20/120\n",
      "4/4 [==============================] - 0s 6ms/step - loss: 0.9532 - accuracy: 0.6667\n",
      "Epoch 21/120\n",
      "4/4 [==============================] - 0s 6ms/step - loss: 0.9492 - accuracy: 0.6667\n",
      "Epoch 22/120\n",
      "4/4 [==============================] - 0s 4ms/step - loss: 0.9457 - accuracy: 0.6667\n",
      "Epoch 23/120\n",
      "4/4 [==============================] - 0s 3ms/step - loss: 0.9419 - accuracy: 0.6190\n",
      "Epoch 24/120\n",
      "4/4 [==============================] - 0s 7ms/step - loss: 0.9373 - accuracy: 0.3905\n",
      "Epoch 25/120\n",
      "4/4 [==============================] - 0s 4ms/step - loss: 0.9337 - accuracy: 0.3714\n",
      "Epoch 26/120\n",
      "4/4 [==============================] - 0s 5ms/step - loss: 0.9317 - accuracy: 0.3810\n",
      "Epoch 27/120\n",
      "4/4 [==============================] - 0s 5ms/step - loss: 0.9303 - accuracy: 0.3905\n",
      "Epoch 28/120\n",
      "4/4 [==============================] - 0s 4ms/step - loss: 0.9271 - accuracy: 0.4000\n",
      "Epoch 29/120\n",
      "4/4 [==============================] - 0s 4ms/step - loss: 0.9232 - accuracy: 0.4000\n",
      "Epoch 30/120\n",
      "4/4 [==============================] - 0s 6ms/step - loss: 0.9190 - accuracy: 0.3905\n",
      "Epoch 31/120\n",
      "4/4 [==============================] - 0s 5ms/step - loss: 0.9149 - accuracy: 0.3810\n",
      "Epoch 32/120\n",
      "4/4 [==============================] - 0s 6ms/step - loss: 0.9110 - accuracy: 0.3810\n",
      "Epoch 33/120\n",
      "4/4 [==============================] - 0s 5ms/step - loss: 0.9073 - accuracy: 0.3810\n",
      "Epoch 34/120\n",
      "4/4 [==============================] - 0s 4ms/step - loss: 0.9042 - accuracy: 0.3714\n",
      "Epoch 35/120\n",
      "4/4 [==============================] - 0s 4ms/step - loss: 0.9013 - accuracy: 0.3714\n",
      "Epoch 36/120\n",
      "4/4 [==============================] - 0s 3ms/step - loss: 0.8991 - accuracy: 0.3714\n",
      "Epoch 37/120\n",
      "4/4 [==============================] - 0s 2ms/step - loss: 0.8954 - accuracy: 0.3714\n",
      "Epoch 38/120\n",
      "4/4 [==============================] - 0s 3ms/step - loss: 0.8914 - accuracy: 0.3714\n",
      "Epoch 39/120\n",
      "4/4 [==============================] - 0s 3ms/step - loss: 0.8878 - accuracy: 0.3810\n",
      "Epoch 40/120\n",
      "4/4 [==============================] - 0s 2ms/step - loss: 0.8841 - accuracy: 0.3810\n",
      "Epoch 41/120\n",
      "4/4 [==============================] - 0s 3ms/step - loss: 0.8806 - accuracy: 0.3810\n",
      "Epoch 42/120\n",
      "4/4 [==============================] - 0s 2ms/step - loss: 0.8770 - accuracy: 0.3810\n",
      "Epoch 43/120\n",
      "4/4 [==============================] - 0s 4ms/step - loss: 0.8734 - accuracy: 0.3810\n",
      "Epoch 44/120\n",
      "4/4 [==============================] - 0s 7ms/step - loss: 0.8700 - accuracy: 0.3810\n",
      "Epoch 45/120\n",
      "4/4 [==============================] - 0s 3ms/step - loss: 0.8664 - accuracy: 0.3810\n",
      "Epoch 46/120\n",
      "4/4 [==============================] - 0s 4ms/step - loss: 0.8631 - accuracy: 0.3810\n",
      "Epoch 47/120\n",
      "4/4 [==============================] - 0s 5ms/step - loss: 0.8598 - accuracy: 0.3810\n",
      "Epoch 48/120\n",
      "4/4 [==============================] - 0s 6ms/step - loss: 0.8558 - accuracy: 0.3810\n",
      "Epoch 49/120\n",
      "4/4 [==============================] - 0s 7ms/step - loss: 0.8524 - accuracy: 0.3810\n",
      "Epoch 50/120\n",
      "4/4 [==============================] - 0s 6ms/step - loss: 0.8498 - accuracy: 0.3810\n",
      "Epoch 51/120\n",
      "4/4 [==============================] - 0s 6ms/step - loss: 0.8454 - accuracy: 0.3810\n",
      "Epoch 52/120\n",
      "4/4 [==============================] - 0s 7ms/step - loss: 0.8415 - accuracy: 0.3905\n",
      "Epoch 53/120\n",
      "4/4 [==============================] - 0s 7ms/step - loss: 0.8378 - accuracy: 0.4000\n",
      "Epoch 54/120\n",
      "4/4 [==============================] - 0s 9ms/step - loss: 0.8345 - accuracy: 0.4000\n",
      "Epoch 55/120\n",
      "4/4 [==============================] - 0s 4ms/step - loss: 0.8305 - accuracy: 0.4000\n",
      "Epoch 56/120\n",
      "4/4 [==============================] - 0s 6ms/step - loss: 0.8269 - accuracy: 0.4000\n",
      "Epoch 57/120\n",
      "4/4 [==============================] - 0s 4ms/step - loss: 0.8228 - accuracy: 0.4000\n",
      "Epoch 58/120\n",
      "4/4 [==============================] - 0s 4ms/step - loss: 0.8189 - accuracy: 0.4000\n",
      "Epoch 59/120\n",
      "4/4 [==============================] - 0s 9ms/step - loss: 0.8152 - accuracy: 0.3905\n",
      "Epoch 60/120\n",
      "4/4 [==============================] - 0s 4ms/step - loss: 0.8119 - accuracy: 0.4381\n",
      "Epoch 61/120\n",
      "4/4 [==============================] - 0s 4ms/step - loss: 0.8085 - accuracy: 0.5333\n",
      "Epoch 62/120\n",
      "4/4 [==============================] - 0s 6ms/step - loss: 0.8047 - accuracy: 0.5714\n",
      "Epoch 63/120\n",
      "4/4 [==============================] - 0s 3ms/step - loss: 0.8013 - accuracy: 0.6571\n",
      "Epoch 64/120\n",
      "4/4 [==============================] - 0s 3ms/step - loss: 0.7971 - accuracy: 0.6762\n",
      "Epoch 65/120\n",
      "4/4 [==============================] - 0s 4ms/step - loss: 0.7927 - accuracy: 0.6762\n",
      "Epoch 66/120\n",
      "4/4 [==============================] - 0s 4ms/step - loss: 0.7883 - accuracy: 0.6952\n",
      "Epoch 67/120\n",
      "4/4 [==============================] - 0s 4ms/step - loss: 0.7837 - accuracy: 0.7048\n",
      "Epoch 68/120\n",
      "4/4 [==============================] - 0s 3ms/step - loss: 0.7800 - accuracy: 0.7333\n",
      "Epoch 69/120\n",
      "4/4 [==============================] - 0s 2ms/step - loss: 0.7776 - accuracy: 0.7619\n",
      "Epoch 70/120\n",
      "4/4 [==============================] - 0s 13ms/step - loss: 0.7735 - accuracy: 0.7905\n",
      "Epoch 71/120\n",
      "4/4 [==============================] - 0s 5ms/step - loss: 0.7693 - accuracy: 0.7714\n",
      "Epoch 72/120\n",
      "4/4 [==============================] - 0s 8ms/step - loss: 0.7646 - accuracy: 0.7810\n",
      "Epoch 73/120\n",
      "4/4 [==============================] - 0s 6ms/step - loss: 0.7603 - accuracy: 0.7905\n",
      "Epoch 74/120\n",
      "4/4 [==============================] - 0s 4ms/step - loss: 0.7554 - accuracy: 0.7714\n",
      "Epoch 75/120\n",
      "4/4 [==============================] - 0s 5ms/step - loss: 0.7517 - accuracy: 0.7238\n",
      "Epoch 76/120\n",
      "4/4 [==============================] - 0s 3ms/step - loss: 0.7474 - accuracy: 0.7238\n",
      "Epoch 77/120\n",
      "4/4 [==============================] - 0s 10ms/step - loss: 0.7431 - accuracy: 0.7238\n",
      "Epoch 78/120\n",
      "4/4 [==============================] - 0s 6ms/step - loss: 0.7385 - accuracy: 0.7524\n",
      "Epoch 79/120\n",
      "4/4 [==============================] - 0s 3ms/step - loss: 0.7343 - accuracy: 0.7524\n",
      "Epoch 80/120\n",
      "4/4 [==============================] - 0s 2ms/step - loss: 0.7301 - accuracy: 0.7714\n",
      "Epoch 81/120\n",
      "4/4 [==============================] - 0s 3ms/step - loss: 0.7255 - accuracy: 0.7810\n",
      "Epoch 82/120\n",
      "4/4 [==============================] - 0s 3ms/step - loss: 0.7211 - accuracy: 0.7714\n",
      "Epoch 83/120\n",
      "4/4 [==============================] - 0s 6ms/step - loss: 0.7175 - accuracy: 0.7524\n",
      "Epoch 84/120\n",
      "4/4 [==============================] - 0s 4ms/step - loss: 0.7124 - accuracy: 0.7619\n",
      "Epoch 85/120\n",
      "4/4 [==============================] - 0s 5ms/step - loss: 0.7079 - accuracy: 0.7905\n",
      "Epoch 86/120\n",
      "4/4 [==============================] - 0s 5ms/step - loss: 0.7037 - accuracy: 0.8000\n",
      "Epoch 87/120\n",
      "4/4 [==============================] - 0s 3ms/step - loss: 0.6998 - accuracy: 0.8000\n",
      "Epoch 88/120\n",
      "4/4 [==============================] - 0s 7ms/step - loss: 0.6950 - accuracy: 0.8000\n",
      "Epoch 89/120\n",
      "4/4 [==============================] - 0s 8ms/step - loss: 0.6905 - accuracy: 0.8000\n",
      "Epoch 90/120\n",
      "4/4 [==============================] - 0s 3ms/step - loss: 0.6860 - accuracy: 0.8286\n",
      "Epoch 91/120\n",
      "4/4 [==============================] - 0s 7ms/step - loss: 0.6813 - accuracy: 0.8286\n",
      "Epoch 92/120\n",
      "4/4 [==============================] - 0s 6ms/step - loss: 0.6763 - accuracy: 0.8000\n",
      "Epoch 93/120\n",
      "4/4 [==============================] - 0s 5ms/step - loss: 0.6717 - accuracy: 0.8000\n",
      "Epoch 94/120\n",
      "4/4 [==============================] - 0s 9ms/step - loss: 0.6672 - accuracy: 0.8000\n",
      "Epoch 95/120\n",
      "4/4 [==============================] - 0s 9ms/step - loss: 0.6632 - accuracy: 0.8000\n",
      "Epoch 96/120\n",
      "4/4 [==============================] - 0s 3ms/step - loss: 0.6582 - accuracy: 0.8000\n",
      "Epoch 97/120\n",
      "4/4 [==============================] - 0s 3ms/step - loss: 0.6535 - accuracy: 0.8000\n",
      "Epoch 98/120\n",
      "4/4 [==============================] - 0s 4ms/step - loss: 0.6488 - accuracy: 0.8381\n",
      "Epoch 99/120\n",
      "4/4 [==============================] - 0s 10ms/step - loss: 0.6438 - accuracy: 0.8381\n",
      "Epoch 100/120\n",
      "4/4 [==============================] - 0s 5ms/step - loss: 0.6405 - accuracy: 0.8667\n",
      "Epoch 101/120\n",
      "4/4 [==============================] - 0s 5ms/step - loss: 0.6351 - accuracy: 0.8762\n",
      "Epoch 102/120\n",
      "4/4 [==============================] - 0s 4ms/step - loss: 0.6303 - accuracy: 0.8762\n",
      "Epoch 103/120\n",
      "4/4 [==============================] - 0s 4ms/step - loss: 0.6254 - accuracy: 0.8762\n",
      "Epoch 104/120\n",
      "4/4 [==============================] - 0s 4ms/step - loss: 0.6202 - accuracy: 0.8667\n",
      "Epoch 105/120\n",
      "4/4 [==============================] - 0s 7ms/step - loss: 0.6151 - accuracy: 0.8476\n",
      "Epoch 106/120\n",
      "4/4 [==============================] - 0s 4ms/step - loss: 0.6103 - accuracy: 0.8476\n",
      "Epoch 107/120\n",
      "4/4 [==============================] - 0s 3ms/step - loss: 0.6057 - accuracy: 0.8476\n",
      "Epoch 108/120\n",
      "4/4 [==============================] - 0s 4ms/step - loss: 0.6002 - accuracy: 0.8571\n",
      "Epoch 109/120\n",
      "4/4 [==============================] - 0s 4ms/step - loss: 0.5960 - accuracy: 0.8762\n",
      "Epoch 110/120\n",
      "4/4 [==============================] - 0s 3ms/step - loss: 0.5921 - accuracy: 0.8952\n",
      "Epoch 111/120\n",
      "4/4 [==============================] - 0s 2ms/step - loss: 0.5875 - accuracy: 0.8952\n",
      "Epoch 112/120\n",
      "4/4 [==============================] - 0s 4ms/step - loss: 0.5818 - accuracy: 0.8952\n",
      "Epoch 113/120\n",
      "4/4 [==============================] - 0s 2ms/step - loss: 0.5764 - accuracy: 0.8762\n",
      "Epoch 114/120\n",
      "4/4 [==============================] - 0s 3ms/step - loss: 0.5715 - accuracy: 0.8762\n",
      "Epoch 115/120\n",
      "4/4 [==============================] - 0s 2ms/step - loss: 0.5670 - accuracy: 0.8762\n",
      "Epoch 116/120\n",
      "4/4 [==============================] - 0s 3ms/step - loss: 0.5620 - accuracy: 0.8762\n",
      "Epoch 117/120\n",
      "4/4 [==============================] - 0s 2ms/step - loss: 0.5572 - accuracy: 0.8762\n",
      "Epoch 118/120\n",
      "4/4 [==============================] - 0s 3ms/step - loss: 0.5524 - accuracy: 0.8762\n",
      "Epoch 119/120\n",
      "4/4 [==============================] - 0s 3ms/step - loss: 0.5478 - accuracy: 0.8762\n",
      "Epoch 120/120\n",
      "4/4 [==============================] - 0s 3ms/step - loss: 0.5432 - accuracy: 0.9048\n"
     ]
    },
    {
     "data": {
      "text/plain": [
       "<tensorflow.python.keras.callbacks.History at 0x14aa52d00>"
      ]
     },
     "execution_count": 49,
     "metadata": {},
     "output_type": "execute_result"
    }
   ],
   "source": [
    "model.fit(X_train, y_train, epochs=120, batch_size=32, verbose=1)"
   ]
  },
  {
   "cell_type": "markdown",
   "metadata": {},
   "source": [
    "## Predictions"
   ]
  },
  {
   "cell_type": "markdown",
   "metadata": {},
   "source": [
    "Setosa - target:0 "
   ]
  },
  {
   "cell_type": "code",
   "execution_count": 50,
   "metadata": {},
   "outputs": [],
   "source": [
    "myvalues=[5.5,3.5,1.3,0.2]"
   ]
  },
  {
   "cell_type": "markdown",
   "metadata": {},
   "source": [
    "Versicolor - target:1"
   ]
  },
  {
   "cell_type": "code",
   "execution_count": 51,
   "metadata": {},
   "outputs": [],
   "source": [
    "myvalues=[5.7,2.6,3.5,1]"
   ]
  },
  {
   "cell_type": "markdown",
   "metadata": {},
   "source": [
    "Iris-virginica - target:2"
   ]
  },
  {
   "cell_type": "code",
   "execution_count": 52,
   "metadata": {},
   "outputs": [],
   "source": [
    "myvalues=[6.2,3.4,5.4,2.3]"
   ]
  },
  {
   "cell_type": "code",
   "execution_count": 53,
   "metadata": {},
   "outputs": [],
   "source": [
    "prediction = model.predict([myvalues])"
   ]
  },
  {
   "cell_type": "code",
   "execution_count": 54,
   "metadata": {},
   "outputs": [
    {
     "data": {
      "text/plain": [
       "2"
      ]
     },
     "execution_count": 54,
     "metadata": {},
     "output_type": "execute_result"
    }
   ],
   "source": [
    "argmax(prediction)"
   ]
  },
  {
   "cell_type": "markdown",
   "metadata": {},
   "source": [
    "## Model"
   ]
  },
  {
   "cell_type": "markdown",
   "metadata": {},
   "source": [
    "Format: SavedModel - default file format in TF2.x"
   ]
  },
  {
   "cell_type": "code",
   "execution_count": 55,
   "metadata": {},
   "outputs": [
    {
     "name": "stderr",
     "output_type": "stream",
     "text": [
      "WARNING:absl:Found untraced functions such as dense_layer_call_fn, dense_layer_call_and_return_conditional_losses, dense_1_layer_call_fn, dense_1_layer_call_and_return_conditional_losses, dense_2_layer_call_fn while saving (showing 5 of 15). These functions will not be directly callable after loading.\n"
     ]
    },
    {
     "name": "stdout",
     "output_type": "stream",
     "text": [
      "INFO:tensorflow:Assets written to: tf2model/v1/assets\n"
     ]
    },
    {
     "name": "stderr",
     "output_type": "stream",
     "text": [
      "INFO:tensorflow:Assets written to: tf2model/v1/assets\n"
     ]
    }
   ],
   "source": [
    "model.save(\"tf2model/v1\")"
   ]
  },
  {
   "cell_type": "code",
   "execution_count": 56,
   "metadata": {},
   "outputs": [
    {
     "name": "stdout",
     "output_type": "stream",
     "text": [
      "\u001b[34massets\u001b[m\u001b[m            keras_metadata.pb saved_model.pb    \u001b[34mvariables\u001b[m\u001b[m\r\n"
     ]
    }
   ],
   "source": [
    "!ls tf2model/v1"
   ]
  }
 ],
 "metadata": {
  "kernelspec": {
   "display_name": "Python 3",
   "language": "python",
   "name": "python3"
  },
  "language_info": {
   "codemirror_mode": {
    "name": "ipython",
    "version": 3
   },
   "file_extension": ".py",
   "mimetype": "text/x-python",
   "name": "python",
   "nbconvert_exporter": "python",
   "pygments_lexer": "ipython3",
   "version": "3.8.3"
  }
 },
 "nbformat": 4,
 "nbformat_minor": 2
}
