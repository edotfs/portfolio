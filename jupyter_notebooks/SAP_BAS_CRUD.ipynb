{
 "cells": [
  {
   "cell_type": "markdown",
   "id": "fe6ca3a5",
   "metadata": {},
   "source": [
    "# SAP"
   ]
  },
  {
   "cell_type": "markdown",
   "id": "85e162ea",
   "metadata": {},
   "source": [
    "# SAP Business Technology Platform"
   ]
  },
  {
   "cell_type": "markdown",
   "id": "b93b5be1",
   "metadata": {},
   "source": [
    "Objective: Develop a CRUD App using SAP Business Application Studio."
   ]
  },
  {
   "cell_type": "markdown",
   "id": "b9583683",
   "metadata": {},
   "source": [
    "## Requirements"
   ]
  },
  {
   "cell_type": "markdown",
   "id": "63ea724e",
   "metadata": {},
   "source": [
    "* SAP BTP [Trial Edition]\n",
    "* Postman"
   ]
  },
  {
   "cell_type": "markdown",
   "id": "a06213bf",
   "metadata": {},
   "source": [
    "![title](../images/sap_bas_crud01.png)"
   ]
  },
  {
   "cell_type": "markdown",
   "id": "f81e4161",
   "metadata": {},
   "source": [
    "# SAP Business Application Studio"
   ]
  },
  {
   "cell_type": "markdown",
   "id": "a98c0ded",
   "metadata": {},
   "source": [
    "## Dev Space"
   ]
  },
  {
   "cell_type": "markdown",
   "id": "c96b1ebc",
   "metadata": {},
   "source": [
    "![title](../images/sap_bas_crud02.png)"
   ]
  },
  {
   "cell_type": "markdown",
   "id": "b61b75ad",
   "metadata": {},
   "source": [
    "## Application"
   ]
  },
  {
   "cell_type": "markdown",
   "id": "ae2cebb1",
   "metadata": {},
   "source": [
    "## Web-based IDE"
   ]
  },
  {
   "cell_type": "markdown",
   "id": "ab10a69c",
   "metadata": {},
   "source": [
    "### Portfolio"
   ]
  },
  {
   "cell_type": "markdown",
   "id": "358d84ed",
   "metadata": {},
   "source": [
    "![title](../images/sap_bas_crud03.png)"
   ]
  },
  {
   "cell_type": "markdown",
   "id": "25d4afb0",
   "metadata": {},
   "source": [
    "## Status"
   ]
  },
  {
   "cell_type": "markdown",
   "id": "d697ed87",
   "metadata": {},
   "source": [
    "![title](../images/sap_bas_crud04.png)"
   ]
  },
  {
   "cell_type": "markdown",
   "id": "d8c08c04",
   "metadata": {},
   "source": [
    "## Route"
   ]
  },
  {
   "cell_type": "markdown",
   "id": "4117bedd",
   "metadata": {},
   "source": [
    "![title](../images/sap_bas_crud05.png)"
   ]
  },
  {
   "cell_type": "markdown",
   "id": "b9fec601",
   "metadata": {},
   "source": [
    "# SAP HANA Database Explorer"
   ]
  },
  {
   "cell_type": "markdown",
   "id": "fb4d3bf6",
   "metadata": {},
   "source": [
    "## Table"
   ]
  },
  {
   "cell_type": "markdown",
   "id": "beea7f43",
   "metadata": {},
   "source": [
    "![title](../images/sap_bas_crud06.png)"
   ]
  },
  {
   "cell_type": "markdown",
   "id": "3f141a7d",
   "metadata": {},
   "source": [
    "## View"
   ]
  },
  {
   "cell_type": "markdown",
   "id": "61ba068a",
   "metadata": {},
   "source": [
    "![title](../images/sap_bas_crud07.png)"
   ]
  },
  {
   "cell_type": "markdown",
   "id": "ea7cd039",
   "metadata": {},
   "source": [
    "# Postman"
   ]
  },
  {
   "cell_type": "markdown",
   "id": "f9510a92",
   "metadata": {},
   "source": [
    "## Method GET - Request"
   ]
  },
  {
   "cell_type": "markdown",
   "id": "ac27026f",
   "metadata": {},
   "source": [
    "![title](../images/sap_bas_crud08.png)"
   ]
  },
  {
   "cell_type": "markdown",
   "id": "3f00bc21",
   "metadata": {},
   "source": [
    "## Response"
   ]
  },
  {
   "cell_type": "markdown",
   "id": "2918d212",
   "metadata": {},
   "source": [
    "![title](../images/sap_bas_crud09.png)"
   ]
  },
  {
   "cell_type": "markdown",
   "id": "754554eb",
   "metadata": {},
   "source": [
    "## Data"
   ]
  },
  {
   "cell_type": "markdown",
   "id": "0036e4ae",
   "metadata": {},
   "source": [
    "![title](../images/sap_bas_crud10.png)"
   ]
  },
  {
   "cell_type": "markdown",
   "id": "6e31d15a",
   "metadata": {},
   "source": [
    "## Method POST - Request"
   ]
  },
  {
   "cell_type": "markdown",
   "id": "6b73ffd9",
   "metadata": {},
   "source": [
    "![title](../images/sap_bas_crud11.png)"
   ]
  },
  {
   "cell_type": "markdown",
   "id": "f0fef2e5",
   "metadata": {},
   "source": [
    "## Response"
   ]
  },
  {
   "cell_type": "markdown",
   "id": "6e0a282e",
   "metadata": {},
   "source": [
    "![title](../images/sap_bas_crud12.png)"
   ]
  },
  {
   "cell_type": "markdown",
   "id": "41b715ea",
   "metadata": {},
   "source": [
    "## Data"
   ]
  },
  {
   "cell_type": "markdown",
   "id": "1d103713",
   "metadata": {},
   "source": [
    "![title](../images/sap_bas_crud13.png)"
   ]
  },
  {
   "cell_type": "markdown",
   "id": "cdb96096",
   "metadata": {},
   "source": [
    "## Method PUT - Request"
   ]
  },
  {
   "cell_type": "markdown",
   "id": "8388c11a",
   "metadata": {},
   "source": [
    "![title](../images/sap_bas_crud14.png)"
   ]
  },
  {
   "cell_type": "markdown",
   "id": "8ae4aebf",
   "metadata": {},
   "source": [
    "## Response"
   ]
  },
  {
   "cell_type": "markdown",
   "id": "16da7395",
   "metadata": {},
   "source": [
    "![title](../images/sap_bas_crud15.png)"
   ]
  },
  {
   "cell_type": "markdown",
   "id": "e7b536c0",
   "metadata": {},
   "source": [
    "## Data"
   ]
  },
  {
   "cell_type": "markdown",
   "id": "2f1b70ad",
   "metadata": {},
   "source": [
    "![title](../images/sap_bas_crud16.png)"
   ]
  },
  {
   "cell_type": "markdown",
   "id": "95f241b2",
   "metadata": {},
   "source": [
    "## Method DEL - Request"
   ]
  },
  {
   "cell_type": "markdown",
   "id": "7fededa9",
   "metadata": {},
   "source": [
    "![title](../images/sap_bas_crud17.png)"
   ]
  },
  {
   "cell_type": "markdown",
   "id": "48e48d33",
   "metadata": {},
   "source": [
    "## Response"
   ]
  },
  {
   "cell_type": "markdown",
   "id": "86207108",
   "metadata": {},
   "source": [
    "![title](../images/sap_bas_crud18.png)"
   ]
  },
  {
   "cell_type": "markdown",
   "id": "735857da",
   "metadata": {},
   "source": [
    "## Data"
   ]
  },
  {
   "cell_type": "markdown",
   "id": "ac7de3ad",
   "metadata": {},
   "source": [
    "![title](../images/sap_bas_crud19.png)"
   ]
  }
 ],
 "metadata": {
  "kernelspec": {
   "display_name": "Python 3 (ipykernel)",
   "language": "python",
   "name": "python3"
  },
  "language_info": {
   "codemirror_mode": {
    "name": "ipython",
    "version": 3
   },
   "file_extension": ".py",
   "mimetype": "text/x-python",
   "name": "python",
   "nbconvert_exporter": "python",
   "pygments_lexer": "ipython3",
   "version": "3.10.9"
  }
 },
 "nbformat": 4,
 "nbformat_minor": 5
}
