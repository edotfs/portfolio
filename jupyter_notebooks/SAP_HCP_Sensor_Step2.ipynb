{
 "cells": [
  {
   "cell_type": "markdown",
   "metadata": {},
   "source": [
    "# Sensor Data to SAP Cloud Platform"
   ]
  },
  {
   "cell_type": "markdown",
   "metadata": {},
   "source": [
    "## Step 2"
   ]
  },
  {
   "cell_type": "markdown",
   "metadata": {},
   "source": [
    "## Python Code - HTTP Request"
   ]
  },
  {
   "cell_type": "markdown",
   "metadata": {},
   "source": [
    "Import requests library.\n",
    "It is an Apache2 Licensed HTTP library, written in Python"
   ]
  },
  {
   "cell_type": "code",
   "execution_count": 2,
   "metadata": {},
   "outputs": [],
   "source": [
    "import requests"
   ]
  },
  {
   "cell_type": "markdown",
   "metadata": {},
   "source": [
    "In step 1 you saved some IDs, now it is time to use them in order to create the POST request."
   ]
  },
  {
   "cell_type": "code",
   "execution_count": 3,
   "metadata": {},
   "outputs": [],
   "source": [
    "#SAP User ID\n",
    "sapuserid = \"p######\"\n",
    "#Message Type ID - MT_TemperatureSensor\n",
    "mtid = \"#x#x#x#x#x#x#x#x#x#x\"\n",
    "#Device ID - DEV_Raspberry\n",
    "devid = \"#x#x#x#x-#x#x-#x#x-#x#x-#x#x#x#x#x#x\"\n",
    "authtoken = \"#x#x#x#x#x#x#x#x#x#x#x#x#x#x#x#x\""
   ]
  },
  {
   "cell_type": "code",
   "execution_count": 4,
   "metadata": {},
   "outputs": [],
   "source": [
    "hostiotmms = \"iotmms\"+sapuserid+\"trial.hanatrial.ondemand.com\"\n",
    "apiiotmmsdata = \"/com.sap.iotservices.mms/v1/api/http/data/\"\n",
    "url = \"https://\"+hostiotmms+apiiotmmsdata+devid"
   ]
  },
  {
   "cell_type": "markdown",
   "metadata": {},
   "source": [
    "Declare three variables with hard-code values to define the fields in the Message Type (Temperature, Humidity and Timestamp). In step 3, values will be submitted in real time through a Raspberry PI and a temperature sensor."
   ]
  },
  {
   "cell_type": "code",
   "execution_count": 5,
   "metadata": {},
   "outputs": [],
   "source": [
    "f_temp = \"99.0\"\n",
    "f_humi = \"98.0\"\n",
    "f_tstamp = \"2019-01-01T12:00:00.930Z\""
   ]
  },
  {
   "cell_type": "markdown",
   "metadata": {},
   "source": [
    "Create the payload"
   ]
  },
  {
   "cell_type": "code",
   "execution_count": 6,
   "metadata": {},
   "outputs": [],
   "source": [
    "payload = \"{\\\"mode\\\":\\\"sync\\\",\\\"messageType\\\":\\\"\"+mtid+\"\\\",\\\"messages\\\":[{\\\"temperature\\\":\"+f_temp+\",\\\"humidity\\\":\"+f_humi+\",\\\"timestamp\\\":\\\"\"+f_tstamp+\"\\\"}]}\""
   ]
  },
  {
   "cell_type": "markdown",
   "metadata": {},
   "source": [
    "Create the headers"
   ]
  },
  {
   "cell_type": "code",
   "execution_count": 7,
   "metadata": {},
   "outputs": [],
   "source": [
    "headers = {\n",
    "        'content-type': \"application/json\",\n",
    "        'authorization': \"Bearer \"+authtoken\n",
    "    }"
   ]
  },
  {
   "cell_type": "markdown",
   "metadata": {},
   "source": [
    "Make a POST request and save the response"
   ]
  },
  {
   "cell_type": "code",
   "execution_count": 8,
   "metadata": {},
   "outputs": [],
   "source": [
    "response = requests.request(\"POST\", url, data=payload, headers=headers)"
   ]
  },
  {
   "cell_type": "markdown",
   "metadata": {},
   "source": [
    "Review the response, a status code = 200 is ok!"
   ]
  },
  {
   "cell_type": "code",
   "execution_count": 9,
   "metadata": {},
   "outputs": [
    {
     "name": "stdout",
     "output_type": "stream",
     "text": [
      "200\n"
     ]
    }
   ],
   "source": [
    "print(response.status_code)"
   ]
  },
  {
   "cell_type": "markdown",
   "metadata": {},
   "source": [
    "## Response - Message Management Service Cockpit"
   ]
  },
  {
   "cell_type": "markdown",
   "metadata": {},
   "source": [
    "- Review the response through the Message Management Service Cockpit\n",
    "\n",
    "  Go to the \"Internet of Things Service Cockpit\"\n",
    "  Click \"Send and view messages, or perform other\" icon"
   ]
  },
  {
   "cell_type": "markdown",
   "metadata": {},
   "source": [
    "![title](../images/SAP_Step2_1.png)"
   ]
  },
  {
   "cell_type": "markdown",
   "metadata": {},
   "source": [
    "- Click \"Display Stored Messages\" icon"
   ]
  },
  {
   "cell_type": "markdown",
   "metadata": {},
   "source": [
    "![title](../images/SAP_Step2_2.png)"
   ]
  },
  {
   "cell_type": "markdown",
   "metadata": {},
   "source": [
    "- Select the table that belongs to your Message Type"
   ]
  },
  {
   "cell_type": "markdown",
   "metadata": {},
   "source": [
    "![title](../images/SAP_Step2_3.png)"
   ]
  },
  {
   "cell_type": "markdown",
   "metadata": {},
   "source": [
    "- Finally you can check the response of the POST request "
   ]
  },
  {
   "cell_type": "markdown",
   "metadata": {},
   "source": [
    "![title](../images/SAP_Step2_4.png)"
   ]
  },
  {
   "cell_type": "markdown",
   "metadata": {},
   "source": [
    "### Summary"
   ]
  },
  {
   "cell_type": "markdown",
   "metadata": {},
   "source": [
    "At this point, a response 200 indicates that the request was successful, I used hard-code values in order to ensure the correct definition of the Internet of Things Service and the development of the HTTP request. Next step is based on the needs, hardware and sensor."
   ]
  }
 ],
 "metadata": {
  "kernelspec": {
   "display_name": "Python 3",
   "language": "python",
   "name": "python3"
  },
  "language_info": {
   "codemirror_mode": {
    "name": "ipython",
    "version": 3
   },
   "file_extension": ".py",
   "mimetype": "text/x-python",
   "name": "python",
   "nbconvert_exporter": "python",
   "pygments_lexer": "ipython3",
   "version": "3.8.3"
  }
 },
 "nbformat": 4,
 "nbformat_minor": 2
}
