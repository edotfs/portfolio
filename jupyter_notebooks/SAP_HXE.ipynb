{
 "cells": [
  {
   "cell_type": "markdown",
   "id": "46eefaf0",
   "metadata": {},
   "source": [
    "# SAP"
   ]
  },
  {
   "cell_type": "markdown",
   "id": "7fadb269",
   "metadata": {},
   "source": [
    "# SAP HANA 2.0 Express Edition"
   ]
  },
  {
   "cell_type": "markdown",
   "id": "8bd2a236",
   "metadata": {},
   "source": [
    "## Objective"
   ]
  },
  {
   "cell_type": "markdown",
   "id": "a6381c18",
   "metadata": {},
   "source": [
    "Setup SAP HANA 2.0 Express Edition, using AWS as cloud infrastructure provider."
   ]
  },
  {
   "cell_type": "markdown",
   "id": "02d29309",
   "metadata": {},
   "source": [
    "## Contents"
   ]
  },
  {
   "cell_type": "markdown",
   "id": "8557132c",
   "metadata": {},
   "source": [
    "* Infrastructure - AWS Launch Wizard (Completed)\n",
    "* Software - SAP HANA 2.0 Express Edition (Pending)\n",
    "* SAP HANA Cockpit (Pending)"
   ]
  },
  {
   "cell_type": "markdown",
   "id": "34904403",
   "metadata": {},
   "source": [
    "## 📙 Infrastructure - AWS Launch Wizard"
   ]
  },
  {
   "cell_type": "markdown",
   "id": "83f7dfd0",
   "metadata": {},
   "source": [
    "## SAP"
   ]
  },
  {
   "cell_type": "markdown",
   "id": "dc7855d9",
   "metadata": {},
   "source": [
    "![title](../images/sap_hxe_01.png)"
   ]
  },
  {
   "cell_type": "markdown",
   "id": "beefd03e",
   "metadata": {},
   "source": [
    "## Review permissions"
   ]
  },
  {
   "cell_type": "markdown",
   "id": "284d6b29",
   "metadata": {},
   "source": [
    "![title](../images/sap_hxe_02.png)"
   ]
  },
  {
   "cell_type": "markdown",
   "id": "c4abcb8a",
   "metadata": {},
   "source": [
    "## Define infrastructure"
   ]
  },
  {
   "cell_type": "markdown",
   "id": "f0d969df",
   "metadata": {},
   "source": [
    "![title](../images/sap_hxe_03.png)"
   ]
  },
  {
   "cell_type": "markdown",
   "id": "9c7d3f95",
   "metadata": {},
   "source": [
    "## Configure application settings"
   ]
  },
  {
   "cell_type": "markdown",
   "id": "66def2cb",
   "metadata": {},
   "source": [
    "![title](../images/sap_hxe_04.png)"
   ]
  },
  {
   "cell_type": "markdown",
   "id": "7ec15cff",
   "metadata": {},
   "source": [
    "## Configure deployment model"
   ]
  },
  {
   "cell_type": "markdown",
   "id": "d1bd2618",
   "metadata": {},
   "source": [
    "![title](../images/sap_hxe_05.png)"
   ]
  },
  {
   "cell_type": "markdown",
   "id": "9da904f8",
   "metadata": {},
   "source": [
    "## Review"
   ]
  },
  {
   "cell_type": "markdown",
   "id": "e53f8660",
   "metadata": {},
   "source": [
    "![title](../images/sap_hxe_06.png)"
   ]
  },
  {
   "cell_type": "markdown",
   "id": "26b93fc8",
   "metadata": {},
   "source": [
    "## Status"
   ]
  },
  {
   "cell_type": "markdown",
   "id": "98b6f890",
   "metadata": {},
   "source": [
    "### 1st Attempt - Failed"
   ]
  },
  {
   "cell_type": "markdown",
   "id": "82480b32",
   "metadata": {},
   "source": [
    "![title](../images/sap_hxe_07.png)"
   ]
  },
  {
   "cell_type": "markdown",
   "id": "5f3cffd2",
   "metadata": {},
   "source": [
    "![title](../images/sap_hxe_08.png)"
   ]
  },
  {
   "cell_type": "markdown",
   "id": "91bc6dc3",
   "metadata": {},
   "source": [
    "### 2nd Attempt - Completed"
   ]
  },
  {
   "cell_type": "markdown",
   "id": "0bf142e6",
   "metadata": {},
   "source": [
    "![title](../images/sap_hxe_09.png)"
   ]
  },
  {
   "cell_type": "markdown",
   "id": "af4e72d0",
   "metadata": {},
   "source": [
    "## 📕 Software - SAP HANA 2.0 Express Edition"
   ]
  },
  {
   "cell_type": "markdown",
   "id": "7bd07d87",
   "metadata": {},
   "source": [
    "## 📙 SAP HANA Cockpit"
   ]
  }
 ],
 "metadata": {
  "kernelspec": {
   "display_name": "Python 3 (ipykernel)",
   "language": "python",
   "name": "python3"
  },
  "language_info": {
   "codemirror_mode": {
    "name": "ipython",
    "version": 3
   },
   "file_extension": ".py",
   "mimetype": "text/x-python",
   "name": "python",
   "nbconvert_exporter": "python",
   "pygments_lexer": "ipython3",
   "version": "3.10.9"
  }
 },
 "nbformat": 4,
 "nbformat_minor": 5
}
