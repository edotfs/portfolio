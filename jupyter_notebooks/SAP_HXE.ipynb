{
 "cells": [
  {
   "cell_type": "markdown",
   "id": "46eefaf0",
   "metadata": {},
   "source": [
    "# SAP"
   ]
  },
  {
   "cell_type": "markdown",
   "id": "7fadb269",
   "metadata": {},
   "source": [
    "# SAP HANA 2.0 Express Edition"
   ]
  },
  {
   "cell_type": "markdown",
   "id": "8bd2a236",
   "metadata": {},
   "source": [
    "## Objective"
   ]
  },
  {
   "cell_type": "markdown",
   "id": "a6381c18",
   "metadata": {},
   "source": [
    "Setup SAP HANA 2.0 Express Edition, using AWS as cloud infrastructure provider."
   ]
  },
  {
   "cell_type": "markdown",
   "id": "02d29309",
   "metadata": {},
   "source": [
    "## Contents"
   ]
  },
  {
   "cell_type": "markdown",
   "id": "8557132c",
   "metadata": {},
   "source": [
    "* Infrastructure - AWS Launch Wizard\n",
    "* Installation - SAP HANA 2.0 Express Edition\n",
    "* SAP HANA Cockpit"
   ]
  },
  {
   "cell_type": "markdown",
   "id": "34904403",
   "metadata": {},
   "source": [
    "## 📙 Infrastructure - AWS Launch Wizard"
   ]
  },
  {
   "cell_type": "markdown",
   "id": "83f7dfd0",
   "metadata": {},
   "source": [
    "## SAP"
   ]
  },
  {
   "cell_type": "markdown",
   "id": "dc7855d9",
   "metadata": {},
   "source": [
    "![title](../images/sap_hxe_01.png)"
   ]
  },
  {
   "cell_type": "markdown",
   "id": "beefd03e",
   "metadata": {},
   "source": [
    "## Review permissions"
   ]
  },
  {
   "cell_type": "markdown",
   "id": "284d6b29",
   "metadata": {},
   "source": [
    "![title](../images/sap_hxe_02.png)"
   ]
  },
  {
   "cell_type": "markdown",
   "id": "c4abcb8a",
   "metadata": {},
   "source": [
    "## Define infrastructure"
   ]
  },
  {
   "cell_type": "markdown",
   "id": "f0d969df",
   "metadata": {},
   "source": [
    "![title](../images/sap_hxe_03.png)"
   ]
  },
  {
   "cell_type": "markdown",
   "id": "9c7d3f95",
   "metadata": {},
   "source": [
    "## Configure application settings"
   ]
  },
  {
   "cell_type": "markdown",
   "id": "66def2cb",
   "metadata": {},
   "source": [
    "![title](../images/sap_hxe_04.png)"
   ]
  },
  {
   "cell_type": "markdown",
   "id": "7ec15cff",
   "metadata": {},
   "source": [
    "## Configure deployment model"
   ]
  },
  {
   "cell_type": "markdown",
   "id": "d1bd2618",
   "metadata": {},
   "source": [
    "![title](../images/sap_hxe_05.png)"
   ]
  },
  {
   "cell_type": "markdown",
   "id": "9da904f8",
   "metadata": {},
   "source": [
    "## Review"
   ]
  },
  {
   "cell_type": "markdown",
   "id": "e53f8660",
   "metadata": {},
   "source": [
    "![title](../images/sap_hxe_06.png)"
   ]
  },
  {
   "cell_type": "markdown",
   "id": "26b93fc8",
   "metadata": {},
   "source": [
    "## Status"
   ]
  },
  {
   "cell_type": "markdown",
   "id": "98b6f890",
   "metadata": {},
   "source": [
    "### 1st Attempt - Failed"
   ]
  },
  {
   "cell_type": "markdown",
   "id": "82480b32",
   "metadata": {},
   "source": [
    "![title](../images/sap_hxe_07.png)"
   ]
  },
  {
   "cell_type": "markdown",
   "id": "5f3cffd2",
   "metadata": {},
   "source": [
    "![title](../images/sap_hxe_08.png)"
   ]
  },
  {
   "cell_type": "markdown",
   "id": "91bc6dc3",
   "metadata": {},
   "source": [
    "### 2nd Attempt - Completed"
   ]
  },
  {
   "cell_type": "markdown",
   "id": "0bf142e6",
   "metadata": {},
   "source": [
    "![title](../images/sap_hxe_09.png)"
   ]
  },
  {
   "cell_type": "markdown",
   "id": "af4e72d0",
   "metadata": {},
   "source": [
    "## 📕 Installation - SAP HANA 2.0 Express Edition"
   ]
  },
  {
   "cell_type": "markdown",
   "id": "ca5babee",
   "metadata": {},
   "source": [
    "### Installation Files"
   ]
  },
  {
   "cell_type": "markdown",
   "id": "89a83026",
   "metadata": {},
   "source": [
    "![title](../images/sap_hxe_10.png)"
   ]
  },
  {
   "cell_type": "markdown",
   "id": "e4261399",
   "metadata": {},
   "source": [
    "### Installation"
   ]
  },
  {
   "cell_type": "markdown",
   "id": "43b0aaea",
   "metadata": {},
   "source": [
    "![title](../images/sap_hxe_11.png)"
   ]
  },
  {
   "cell_type": "markdown",
   "id": "462d52b1",
   "metadata": {},
   "source": [
    "### Deployed XS Advanced Applications"
   ]
  },
  {
   "cell_type": "markdown",
   "id": "3079bd59",
   "metadata": {},
   "source": [
    "![title](../images/sap_hxe_12.png)"
   ]
  },
  {
   "cell_type": "markdown",
   "id": "f4f7d04d",
   "metadata": {},
   "source": [
    "### URL"
   ]
  },
  {
   "cell_type": "markdown",
   "id": "0c07f18d",
   "metadata": {},
   "source": [
    "![title](../images/sap_hxe_13.png)"
   ]
  },
  {
   "cell_type": "markdown",
   "id": "d6141647",
   "metadata": {},
   "source": [
    "### hosts"
   ]
  },
  {
   "cell_type": "markdown",
   "id": "8bf58dff",
   "metadata": {},
   "source": [
    "[Private IP Address] [saphanaxe.local]"
   ]
  },
  {
   "cell_type": "markdown",
   "id": "78fd6595",
   "metadata": {},
   "source": [
    "![title](../images/sap_hxe_14.png)"
   ]
  },
  {
   "cell_type": "markdown",
   "id": "b235e466",
   "metadata": {},
   "source": [
    "### Databases"
   ]
  },
  {
   "cell_type": "markdown",
   "id": "a5a2e5df",
   "metadata": {},
   "source": [
    "![title](../images/sap_hxe_15.png)"
   ]
  },
  {
   "cell_type": "markdown",
   "id": "526b3070",
   "metadata": {},
   "source": [
    "![title](../images/sap_hxe_16.png)"
   ]
  },
  {
   "cell_type": "markdown",
   "id": "7bd07d87",
   "metadata": {},
   "source": [
    "## 📙 SAP HANA Cockpit"
   ]
  },
  {
   "cell_type": "markdown",
   "id": "59e3014d",
   "metadata": {},
   "source": [
    "![title](../images/sap_hxe_17.png)"
   ]
  }
 ],
 "metadata": {
  "kernelspec": {
   "display_name": "Python 3 (ipykernel)",
   "language": "python",
   "name": "python3"
  },
  "language_info": {
   "codemirror_mode": {
    "name": "ipython",
    "version": 3
   },
   "file_extension": ".py",
   "mimetype": "text/x-python",
   "name": "python",
   "nbconvert_exporter": "python",
   "pygments_lexer": "ipython3",
   "version": "3.10.9"
  }
 },
 "nbformat": 4,
 "nbformat_minor": 5
}
