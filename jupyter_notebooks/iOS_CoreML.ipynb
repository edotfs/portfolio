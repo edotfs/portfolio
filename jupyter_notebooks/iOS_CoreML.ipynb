{
 "cells": [
  {
   "cell_type": "markdown",
   "id": "46eefaf0",
   "metadata": {},
   "source": [
    "# iOS"
   ]
  },
  {
   "cell_type": "markdown",
   "id": "7fadb269",
   "metadata": {},
   "source": [
    "# Core ML Model"
   ]
  },
  {
   "cell_type": "markdown",
   "id": "b048d3f0",
   "metadata": {},
   "source": [
    "## Objective"
   ]
  },
  {
   "cell_type": "markdown",
   "id": "a6381c18",
   "metadata": {},
   "source": [
    "Integrate a Core ML Model to develop an Image Classification app."
   ]
  },
  {
   "cell_type": "markdown",
   "id": "02d29309",
   "metadata": {},
   "source": [
    "## Requirements"
   ]
  },
  {
   "cell_type": "markdown",
   "id": "8557132c",
   "metadata": {},
   "source": [
    "* 💻 MacBook Pro M2 Max\n",
    "* 👨🏻‍💻 Xcode\n",
    "* 🤖 Core ML Model"
   ]
  },
  {
   "cell_type": "markdown",
   "id": "8b171dfa",
   "metadata": {},
   "source": [
    "## Core ML Model"
   ]
  },
  {
   "cell_type": "markdown",
   "id": "48a6a82b",
   "metadata": {},
   "source": [
    "MobileNetV2"
   ]
  },
  {
   "cell_type": "markdown",
   "id": "34904403",
   "metadata": {},
   "source": [
    "## Portfolio App"
   ]
  },
  {
   "cell_type": "markdown",
   "id": "4ee7d6bb",
   "metadata": {},
   "source": [
    "## 📱 iOS Device"
   ]
  },
  {
   "cell_type": "markdown",
   "id": "f032c9f1",
   "metadata": {},
   "source": [
    "![title](../images/ios_coreml_00.png)"
   ]
  },
  {
   "cell_type": "markdown",
   "id": "ad14caf9",
   "metadata": {},
   "source": [
    "## 📲 iOS Simulator"
   ]
  },
  {
   "cell_type": "markdown",
   "id": "a634d68d",
   "metadata": {},
   "source": [
    "![title](../images/ios_coreml_01.png)"
   ]
  },
  {
   "cell_type": "markdown",
   "id": "fa7cf32a",
   "metadata": {},
   "source": [
    "![title](../images/ios_coreml_02.png)"
   ]
  },
  {
   "cell_type": "markdown",
   "id": "81121a8c",
   "metadata": {},
   "source": [
    "![title](../images/ios_coreml_03.png)"
   ]
  }
 ],
 "metadata": {
  "kernelspec": {
   "display_name": "Python 3 (ipykernel)",
   "language": "python",
   "name": "python3"
  },
  "language_info": {
   "codemirror_mode": {
    "name": "ipython",
    "version": 3
   },
   "file_extension": ".py",
   "mimetype": "text/x-python",
   "name": "python",
   "nbconvert_exporter": "python",
   "pygments_lexer": "ipython3",
   "version": "3.10.9"
  }
 },
 "nbformat": 4,
 "nbformat_minor": 5
}
