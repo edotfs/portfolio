{
 "cells": [
  {
   "cell_type": "markdown",
   "id": "46eefaf0",
   "metadata": {},
   "source": [
    "# iOS"
   ]
  },
  {
   "cell_type": "markdown",
   "id": "7fadb269",
   "metadata": {},
   "source": [
    "# GitHub Repository"
   ]
  },
  {
   "cell_type": "markdown",
   "id": "8bd2a236",
   "metadata": {},
   "source": [
    "## Objective"
   ]
  },
  {
   "cell_type": "markdown",
   "id": "a6381c18",
   "metadata": {},
   "source": [
    "Use GitHub as a repository for Xcode projects."
   ]
  },
  {
   "cell_type": "markdown",
   "id": "02d29309",
   "metadata": {},
   "source": [
    "## Contents"
   ]
  },
  {
   "cell_type": "markdown",
   "id": "8557132c",
   "metadata": {},
   "source": [
    "* 📕 Associate an Xcode Project to a GitHub Repository\n",
    "* 📘 Clone an existing Xcode Project on GitHub"
   ]
  },
  {
   "cell_type": "markdown",
   "id": "05feff2f",
   "metadata": {},
   "source": [
    "# 📕 Associate an Xcode Project to a GitHub Repository"
   ]
  },
  {
   "cell_type": "markdown",
   "id": "34904403",
   "metadata": {},
   "source": [
    "## Xcode\n",
    "## App "
   ]
  },
  {
   "cell_type": "markdown",
   "id": "cfa4d9a2",
   "metadata": {},
   "source": [
    "![title](../images/ios_xcloud_00.png)"
   ]
  },
  {
   "cell_type": "markdown",
   "id": "83f7dfd0",
   "metadata": {},
   "source": [
    "## Create a local Git repository"
   ]
  },
  {
   "cell_type": "markdown",
   "id": "63d63e73",
   "metadata": {},
   "source": [
    "![title](../images/ios_github_01.png)"
   ]
  },
  {
   "cell_type": "markdown",
   "id": "737c4161",
   "metadata": {},
   "source": [
    "## Add GitHub account"
   ]
  },
  {
   "cell_type": "markdown",
   "id": "711df202",
   "metadata": {},
   "source": [
    "![title](../images/ios_github_02.png)"
   ]
  },
  {
   "cell_type": "markdown",
   "id": "d0ee163d",
   "metadata": {},
   "source": [
    "## Create a remote Git repository"
   ]
  },
  {
   "cell_type": "markdown",
   "id": "e923ea77",
   "metadata": {},
   "source": [
    "![title](../images/ios_github_03.png)"
   ]
  },
  {
   "cell_type": "markdown",
   "id": "55f0400e",
   "metadata": {},
   "source": [
    "## GitHub repository"
   ]
  },
  {
   "cell_type": "markdown",
   "id": "3c92777d",
   "metadata": {},
   "source": [
    "![title](../images/ios_github_04.png)"
   ]
  },
  {
   "cell_type": "markdown",
   "id": "0f609551",
   "metadata": {},
   "source": [
    "# 📕 Clone an existing Xcode Project on GitHub"
   ]
  },
  {
   "cell_type": "markdown",
   "id": "6f7f3b4b",
   "metadata": {},
   "source": [
    "## Clone an existing project"
   ]
  },
  {
   "cell_type": "markdown",
   "id": "612940d5",
   "metadata": {},
   "source": [
    "![title](../images/ios_github_05.png)"
   ]
  },
  {
   "cell_type": "markdown",
   "id": "1b7c8f6e",
   "metadata": {},
   "source": [
    "## GitHub repository"
   ]
  },
  {
   "cell_type": "markdown",
   "id": "f655da74",
   "metadata": {},
   "source": [
    "![title](../images/ios_github_06.png)"
   ]
  },
  {
   "cell_type": "markdown",
   "id": "4f52cef6",
   "metadata": {},
   "source": [
    "## Local directory"
   ]
  },
  {
   "cell_type": "markdown",
   "id": "78e4b2e9",
   "metadata": {},
   "source": [
    "![title](../images/ios_github_07.png)"
   ]
  }
 ],
 "metadata": {
  "kernelspec": {
   "display_name": "Python 3 (ipykernel)",
   "language": "python",
   "name": "python3"
  },
  "language_info": {
   "codemirror_mode": {
    "name": "ipython",
    "version": 3
   },
   "file_extension": ".py",
   "mimetype": "text/x-python",
   "name": "python",
   "nbconvert_exporter": "python",
   "pygments_lexer": "ipython3",
   "version": "3.10.9"
  }
 },
 "nbformat": 4,
 "nbformat_minor": 5
}
