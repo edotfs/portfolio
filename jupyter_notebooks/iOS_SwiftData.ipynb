{
 "cells": [
  {
   "cell_type": "markdown",
   "id": "46eefaf0",
   "metadata": {},
   "source": [
    "# iOS"
   ]
  },
  {
   "cell_type": "markdown",
   "id": "e2250962",
   "metadata": {},
   "source": [
    "# SwiftUI"
   ]
  },
  {
   "cell_type": "markdown",
   "id": "7fadb269",
   "metadata": {},
   "source": [
    "# SwiftData"
   ]
  },
  {
   "cell_type": "markdown",
   "id": "8bd2a236",
   "metadata": {},
   "source": [
    "## Objective"
   ]
  },
  {
   "cell_type": "markdown",
   "id": "a6381c18",
   "metadata": {},
   "source": [
    "Develop CRUD operations using SwiftData."
   ]
  },
  {
   "cell_type": "markdown",
   "id": "02d29309",
   "metadata": {},
   "source": [
    "## Requirements"
   ]
  },
  {
   "cell_type": "markdown",
   "id": "8557132c",
   "metadata": {},
   "source": [
    "* 💻 MacBook Pro M2 Max\n",
    "* 👨🏻‍💻 Xcode"
   ]
  },
  {
   "cell_type": "markdown",
   "id": "34904403",
   "metadata": {},
   "source": [
    "# Xcode"
   ]
  },
  {
   "cell_type": "markdown",
   "id": "83f7dfd0",
   "metadata": {},
   "source": [
    "## CRUD"
   ]
  },
  {
   "cell_type": "markdown",
   "id": "5f4b0d3a",
   "metadata": {},
   "source": [
    "## 📕 Create"
   ]
  },
  {
   "cell_type": "markdown",
   "id": "6b3fead2",
   "metadata": {},
   "source": [
    "![title](../images/ios_swiftdata_01.png)"
   ]
  },
  {
   "cell_type": "markdown",
   "id": "a3bec527",
   "metadata": {},
   "source": [
    "## 📘 Read"
   ]
  },
  {
   "cell_type": "markdown",
   "id": "d81b8ef3",
   "metadata": {},
   "source": [
    "![title](../images/ios_swiftdata_02.png)"
   ]
  },
  {
   "cell_type": "markdown",
   "id": "0e3e2599",
   "metadata": {},
   "source": [
    "## 📙 Update"
   ]
  },
  {
   "cell_type": "markdown",
   "id": "3a745051",
   "metadata": {},
   "source": [
    "![title](../images/ios_swiftdata_03.png)"
   ]
  },
  {
   "cell_type": "markdown",
   "id": "5170fc12",
   "metadata": {},
   "source": [
    "## 📗 Delete"
   ]
  },
  {
   "cell_type": "markdown",
   "id": "ae4ef8c9",
   "metadata": {},
   "source": [
    "![title](../images/ios_swiftdata_04.png)"
   ]
  }
 ],
 "metadata": {
  "kernelspec": {
   "display_name": "Python 3 (ipykernel)",
   "language": "python",
   "name": "python3"
  },
  "language_info": {
   "codemirror_mode": {
    "name": "ipython",
    "version": 3
   },
   "file_extension": ".py",
   "mimetype": "text/x-python",
   "name": "python",
   "nbconvert_exporter": "python",
   "pygments_lexer": "ipython3",
   "version": "3.10.9"
  }
 },
 "nbformat": 4,
 "nbformat_minor": 5
}
