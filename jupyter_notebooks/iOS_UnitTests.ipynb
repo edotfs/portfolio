{
 "cells": [
  {
   "cell_type": "markdown",
   "id": "46eefaf0",
   "metadata": {},
   "source": [
    "# iOS"
   ]
  },
  {
   "cell_type": "markdown",
   "id": "7fadb269",
   "metadata": {},
   "source": [
    "# Xcode"
   ]
  },
  {
   "cell_type": "markdown",
   "id": "f14e9102",
   "metadata": {},
   "source": [
    "# Unit Tests"
   ]
  },
  {
   "cell_type": "markdown",
   "id": "8bd2a236",
   "metadata": {},
   "source": [
    "## Objective"
   ]
  },
  {
   "cell_type": "markdown",
   "id": "a6381c18",
   "metadata": {},
   "source": [
    "Create and run unit tests and UI tests for an Xcode Project."
   ]
  },
  {
   "cell_type": "markdown",
   "id": "02d29309",
   "metadata": {},
   "source": [
    "## Requirements"
   ]
  },
  {
   "cell_type": "markdown",
   "id": "8557132c",
   "metadata": {},
   "source": [
    "* 💻 MacBook Pro M2 Max\n",
    "* 👨🏻‍💻 Xcode"
   ]
  },
  {
   "cell_type": "markdown",
   "id": "34904403",
   "metadata": {},
   "source": [
    "## Xcode"
   ]
  },
  {
   "cell_type": "markdown",
   "id": "83f7dfd0",
   "metadata": {},
   "source": [
    "## Test Navigator"
   ]
  },
  {
   "cell_type": "markdown",
   "id": "dc7855d9",
   "metadata": {},
   "source": [
    "![title](../images/ios_unittest_01.png)"
   ]
  },
  {
   "cell_type": "markdown",
   "id": "5f4b0d3a",
   "metadata": {},
   "source": [
    "## ✅ FirstNameIsNotEmpty"
   ]
  },
  {
   "cell_type": "markdown",
   "id": "6b3fead2",
   "metadata": {},
   "source": [
    "![title](../images/ios_unittest_02.png)"
   ]
  },
  {
   "cell_type": "markdown",
   "id": "a3bec527",
   "metadata": {},
   "source": [
    "## ❌ FirstNameIsNotEmpty"
   ]
  },
  {
   "cell_type": "markdown",
   "id": "d81b8ef3",
   "metadata": {},
   "source": [
    "![title](../images/ios_unittest_03.png)"
   ]
  },
  {
   "cell_type": "markdown",
   "id": "0e3e2599",
   "metadata": {},
   "source": [
    "## ✅ FirstNameIsLongEnough"
   ]
  },
  {
   "cell_type": "markdown",
   "id": "3a745051",
   "metadata": {},
   "source": [
    "![title](../images/ios_unittest_04.png)"
   ]
  },
  {
   "cell_type": "markdown",
   "id": "5170fc12",
   "metadata": {},
   "source": [
    "## ❌ FirstNameIsLongEnough"
   ]
  },
  {
   "cell_type": "markdown",
   "id": "ae4ef8c9",
   "metadata": {},
   "source": [
    "![title](../images/ios_unittest_05.png)"
   ]
  },
  {
   "cell_type": "code",
   "execution_count": null,
   "id": "6b353875",
   "metadata": {},
   "outputs": [],
   "source": []
  }
 ],
 "metadata": {
  "kernelspec": {
   "display_name": "Python 3 (ipykernel)",
   "language": "python",
   "name": "python3"
  },
  "language_info": {
   "codemirror_mode": {
    "name": "ipython",
    "version": 3
   },
   "file_extension": ".py",
   "mimetype": "text/x-python",
   "name": "python",
   "nbconvert_exporter": "python",
   "pygments_lexer": "ipython3",
   "version": "3.10.9"
  }
 },
 "nbformat": 4,
 "nbformat_minor": 5
}
