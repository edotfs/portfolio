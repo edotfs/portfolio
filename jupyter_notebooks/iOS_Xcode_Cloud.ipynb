{
 "cells": [
  {
   "cell_type": "markdown",
   "id": "46eefaf0",
   "metadata": {},
   "source": [
    "# iOS"
   ]
  },
  {
   "cell_type": "markdown",
   "id": "7fadb269",
   "metadata": {},
   "source": [
    "# Xcode Cloud"
   ]
  },
  {
   "cell_type": "markdown",
   "id": "8bd2a236",
   "metadata": {},
   "source": [
    "## Objective"
   ]
  },
  {
   "cell_type": "markdown",
   "id": "a6381c18",
   "metadata": {},
   "source": [
    "Submit an Xcode Project to App Store Connect using Xcode Cloud."
   ]
  },
  {
   "cell_type": "markdown",
   "id": "02d29309",
   "metadata": {},
   "source": [
    "## Requirements"
   ]
  },
  {
   "cell_type": "markdown",
   "id": "8557132c",
   "metadata": {},
   "source": [
    "* 💻 MacBook Pro M2 Max\n",
    "* 👨🏻‍💻 Xcode\n",
    "* ⚙️ Apple Developer Program Membership"
   ]
  },
  {
   "cell_type": "markdown",
   "id": "34904403",
   "metadata": {},
   "source": [
    "## Xcode"
   ]
  },
  {
   "cell_type": "markdown",
   "id": "83f7dfd0",
   "metadata": {},
   "source": [
    "## App v1"
   ]
  },
  {
   "cell_type": "markdown",
   "id": "dc7855d9",
   "metadata": {},
   "source": [
    "![title](../images/ios_xcloud_00.png)"
   ]
  },
  {
   "cell_type": "markdown",
   "id": "5f4b0d3a",
   "metadata": {},
   "source": [
    "## Create a local Git repository "
   ]
  },
  {
   "cell_type": "markdown",
   "id": "6b3fead2",
   "metadata": {},
   "source": [
    "![title](../images/ios_xcloud_01.png)"
   ]
  },
  {
   "cell_type": "markdown",
   "id": "a3bec527",
   "metadata": {},
   "source": [
    "## Create a remote Git repository "
   ]
  },
  {
   "cell_type": "markdown",
   "id": "d81b8ef3",
   "metadata": {},
   "source": [
    "![title](../images/ios_xcloud_02.png)"
   ]
  },
  {
   "cell_type": "markdown",
   "id": "0e3e2599",
   "metadata": {},
   "source": [
    "# Xcode Cloud"
   ]
  },
  {
   "cell_type": "markdown",
   "id": "3a745051",
   "metadata": {},
   "source": [
    "![title](../images/ios_xcloud_03.png)"
   ]
  },
  {
   "cell_type": "markdown",
   "id": "5170fc12",
   "metadata": {},
   "source": [
    "## Project"
   ]
  },
  {
   "cell_type": "markdown",
   "id": "ae4ef8c9",
   "metadata": {},
   "source": [
    "![title](../images/ios_xcloud_04.png)"
   ]
  },
  {
   "cell_type": "markdown",
   "id": "8f98e843",
   "metadata": {},
   "source": [
    "## Workflow"
   ]
  },
  {
   "cell_type": "markdown",
   "id": "edd86008",
   "metadata": {},
   "source": [
    "![title](../images/ios_xcloud_05.png)"
   ]
  },
  {
   "cell_type": "markdown",
   "id": "375c326b",
   "metadata": {},
   "source": [
    "## Build"
   ]
  },
  {
   "cell_type": "markdown",
   "id": "c15bab49",
   "metadata": {},
   "source": [
    "![title](../images/ios_xcloud_06.png)"
   ]
  },
  {
   "cell_type": "markdown",
   "id": "53749277",
   "metadata": {},
   "source": [
    "## Completed ✅"
   ]
  },
  {
   "cell_type": "markdown",
   "id": "0dab8b82",
   "metadata": {},
   "source": [
    "![title](../images/ios_xcloud_07.png)"
   ]
  },
  {
   "cell_type": "markdown",
   "id": "b866b37b",
   "metadata": {},
   "source": [
    "## App v2"
   ]
  },
  {
   "cell_type": "markdown",
   "id": "e94493a6",
   "metadata": {},
   "source": [
    "![title](../images/ios_xcloud_08.png)"
   ]
  },
  {
   "cell_type": "markdown",
   "id": "e9800387",
   "metadata": {},
   "source": [
    "## Commit / Push "
   ]
  },
  {
   "cell_type": "markdown",
   "id": "433865ad",
   "metadata": {},
   "source": [
    "![title](../images/ios_xcloud_09.png)"
   ]
  },
  {
   "cell_type": "markdown",
   "id": "26353f00",
   "metadata": {},
   "source": [
    "## Completed ✅"
   ]
  },
  {
   "cell_type": "markdown",
   "id": "05e059eb",
   "metadata": {},
   "source": [
    "![title](../images/ios_xcloud_10.png)"
   ]
  },
  {
   "cell_type": "markdown",
   "id": "37c43d8b",
   "metadata": {},
   "source": [
    "# App Store Connect"
   ]
  },
  {
   "cell_type": "markdown",
   "id": "83668653",
   "metadata": {},
   "source": [
    "## portfolioxcodecloud App"
   ]
  },
  {
   "cell_type": "markdown",
   "id": "0a4cd7c7",
   "metadata": {},
   "source": [
    "![title](../images/ios_xcloud_11.png)"
   ]
  },
  {
   "cell_type": "markdown",
   "id": "9d9ff3c2",
   "metadata": {},
   "source": [
    "## portfolioxcodecloud - Build 1, Build 2"
   ]
  },
  {
   "cell_type": "markdown",
   "id": "61012c6f",
   "metadata": {},
   "source": [
    "![title](../images/ios_xcloud_12.png)"
   ]
  },
  {
   "cell_type": "code",
   "execution_count": null,
   "id": "8e8cd3ab",
   "metadata": {},
   "outputs": [],
   "source": []
  }
 ],
 "metadata": {
  "kernelspec": {
   "display_name": "Python 3 (ipykernel)",
   "language": "python",
   "name": "python3"
  },
  "language_info": {
   "codemirror_mode": {
    "name": "ipython",
    "version": 3
   },
   "file_extension": ".py",
   "mimetype": "text/x-python",
   "name": "python",
   "nbconvert_exporter": "python",
   "pygments_lexer": "ipython3",
   "version": "3.10.9"
  }
 },
 "nbformat": 4,
 "nbformat_minor": 5
}
